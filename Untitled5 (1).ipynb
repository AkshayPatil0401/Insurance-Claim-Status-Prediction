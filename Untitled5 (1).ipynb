{
  "nbformat": 4,
  "nbformat_minor": 0,
  "metadata": {
    "colab": {
      "name": "Untitled5.ipynb",
      "provenance": [],
      "collapsed_sections": [],
      "toc_visible": true
    },
    "kernelspec": {
      "name": "python3",
      "display_name": "Python 3"
    }
  },
  "cells": [
    {
      "cell_type": "markdown",
      "metadata": {
        "id": "qQmIoKiOl-3e"
      },
      "source": [
        "# Importing basic required libraries"
      ]
    },
    {
      "cell_type": "code",
      "metadata": {
        "id": "DYiE5-uUlE63"
      },
      "source": [
        "import pandas as pd\n",
        "import numpy as np\n",
        "import seaborn as sns\n",
        "import tensorflow as tf\n",
        "\n",
        "import matplotlib.pyplot as plt\n",
        "%matplotlib inline\n",
        "\n",
        "from sklearn.preprocessing import StandardScaler\n",
        "from sklearn.model_selection import train_test_split\n",
        "from sklearn.preprocessing import LabelEncoder\n",
        "from sklearn.metrics import r2_score\n",
        "from sklearn.metrics import mean_squared_error\n",
        "from sklearn.model_selection import cross_val_score\n",
        "import missingno\n",
        "\n",
        "pd.set_option('display.max_rows', 200)"
      ],
      "execution_count": 60,
      "outputs": []
    },
    {
      "cell_type": "markdown",
      "metadata": {
        "id": "P_8cfFv7oCNw"
      },
      "source": [
        "# Importing Data using pandas dataframe and introducing some basic analysis"
      ]
    },
    {
      "cell_type": "code",
      "metadata": {
        "id": "OE-A5UBOl-Mu"
      },
      "source": [
        "df=pd.read_csv('data.csv')"
      ],
      "execution_count": 2,
      "outputs": []
    },
    {
      "cell_type": "code",
      "metadata": {
        "colab": {
          "base_uri": "https://localhost:8080/",
          "height": 296
        },
        "id": "jhrP0Mo9oQmm",
        "outputId": "77be1440-23c4-4b1e-f57b-6b5e56019fb2"
      },
      "source": [
        "df.head()"
      ],
      "execution_count": 3,
      "outputs": [
        {
          "output_type": "execute_result",
          "data": {
            "text/html": [
              "<div>\n",
              "<style scoped>\n",
              "    .dataframe tbody tr th:only-of-type {\n",
              "        vertical-align: middle;\n",
              "    }\n",
              "\n",
              "    .dataframe tbody tr th {\n",
              "        vertical-align: top;\n",
              "    }\n",
              "\n",
              "    .dataframe thead th {\n",
              "        text-align: right;\n",
              "    }\n",
              "</style>\n",
              "<table border=\"1\" class=\"dataframe\">\n",
              "  <thead>\n",
              "    <tr style=\"text-align: right;\">\n",
              "      <th></th>\n",
              "      <th>ID</th>\n",
              "      <th>Agency</th>\n",
              "      <th>Agency Type</th>\n",
              "      <th>Distribution Channel</th>\n",
              "      <th>Product Name</th>\n",
              "      <th>Claim</th>\n",
              "      <th>Duration</th>\n",
              "      <th>Destination</th>\n",
              "      <th>Net Sales</th>\n",
              "      <th>Commision (in value)</th>\n",
              "      <th>Gender</th>\n",
              "      <th>Age</th>\n",
              "    </tr>\n",
              "  </thead>\n",
              "  <tbody>\n",
              "    <tr>\n",
              "      <th>0</th>\n",
              "      <td>3433</td>\n",
              "      <td>CWT</td>\n",
              "      <td>Travel Agency</td>\n",
              "      <td>Online</td>\n",
              "      <td>Rental Vehicle Excess Insurance</td>\n",
              "      <td>0</td>\n",
              "      <td>7</td>\n",
              "      <td>MALAYSIA</td>\n",
              "      <td>0.0</td>\n",
              "      <td>17.82</td>\n",
              "      <td>NaN</td>\n",
              "      <td>31</td>\n",
              "    </tr>\n",
              "    <tr>\n",
              "      <th>1</th>\n",
              "      <td>4339</td>\n",
              "      <td>EPX</td>\n",
              "      <td>Travel Agency</td>\n",
              "      <td>Online</td>\n",
              "      <td>Cancellation Plan</td>\n",
              "      <td>0</td>\n",
              "      <td>85</td>\n",
              "      <td>SINGAPORE</td>\n",
              "      <td>69.0</td>\n",
              "      <td>0.00</td>\n",
              "      <td>NaN</td>\n",
              "      <td>36</td>\n",
              "    </tr>\n",
              "    <tr>\n",
              "      <th>2</th>\n",
              "      <td>34590</td>\n",
              "      <td>CWT</td>\n",
              "      <td>Travel Agency</td>\n",
              "      <td>Online</td>\n",
              "      <td>Rental Vehicle Excess Insurance</td>\n",
              "      <td>0</td>\n",
              "      <td>11</td>\n",
              "      <td>MALAYSIA</td>\n",
              "      <td>19.8</td>\n",
              "      <td>11.88</td>\n",
              "      <td>NaN</td>\n",
              "      <td>75</td>\n",
              "    </tr>\n",
              "    <tr>\n",
              "      <th>3</th>\n",
              "      <td>55816</td>\n",
              "      <td>EPX</td>\n",
              "      <td>Travel Agency</td>\n",
              "      <td>Online</td>\n",
              "      <td>2 way Comprehensive Plan</td>\n",
              "      <td>0</td>\n",
              "      <td>16</td>\n",
              "      <td>INDONESIA</td>\n",
              "      <td>20.0</td>\n",
              "      <td>0.00</td>\n",
              "      <td>NaN</td>\n",
              "      <td>32</td>\n",
              "    </tr>\n",
              "    <tr>\n",
              "      <th>4</th>\n",
              "      <td>13816</td>\n",
              "      <td>EPX</td>\n",
              "      <td>Travel Agency</td>\n",
              "      <td>Online</td>\n",
              "      <td>Cancellation Plan</td>\n",
              "      <td>0</td>\n",
              "      <td>10</td>\n",
              "      <td>KOREA, REPUBLIC OF</td>\n",
              "      <td>15.0</td>\n",
              "      <td>0.00</td>\n",
              "      <td>NaN</td>\n",
              "      <td>29</td>\n",
              "    </tr>\n",
              "  </tbody>\n",
              "</table>\n",
              "</div>"
            ],
            "text/plain": [
              "      ID Agency    Agency Type  ... Commision (in value) Gender  Age\n",
              "0   3433    CWT  Travel Agency  ...                17.82    NaN   31\n",
              "1   4339    EPX  Travel Agency  ...                 0.00    NaN   36\n",
              "2  34590    CWT  Travel Agency  ...                11.88    NaN   75\n",
              "3  55816    EPX  Travel Agency  ...                 0.00    NaN   32\n",
              "4  13816    EPX  Travel Agency  ...                 0.00    NaN   29\n",
              "\n",
              "[5 rows x 12 columns]"
            ]
          },
          "metadata": {
            "tags": []
          },
          "execution_count": 3
        }
      ]
    },
    {
      "cell_type": "code",
      "metadata": {
        "colab": {
          "base_uri": "https://localhost:8080/"
        },
        "id": "d88kc-E7ocny",
        "outputId": "c3b60df5-b0a1-4220-e748-b8c1c5a47cef"
      },
      "source": [
        "df.info()"
      ],
      "execution_count": 4,
      "outputs": [
        {
          "output_type": "stream",
          "text": [
            "<class 'pandas.core.frame.DataFrame'>\n",
            "RangeIndex: 50553 entries, 0 to 50552\n",
            "Data columns (total 12 columns):\n",
            " #   Column                Non-Null Count  Dtype  \n",
            "---  ------                --------------  -----  \n",
            " 0   ID                    50553 non-null  int64  \n",
            " 1   Agency                50553 non-null  object \n",
            " 2   Agency Type           50553 non-null  object \n",
            " 3   Distribution Channel  50553 non-null  object \n",
            " 4   Product Name          50553 non-null  object \n",
            " 5   Claim                 50553 non-null  int64  \n",
            " 6   Duration              50553 non-null  int64  \n",
            " 7   Destination           50553 non-null  object \n",
            " 8   Net Sales             50553 non-null  float64\n",
            " 9   Commision (in value)  50553 non-null  float64\n",
            " 10  Gender                14600 non-null  object \n",
            " 11  Age                   50553 non-null  int64  \n",
            "dtypes: float64(2), int64(4), object(6)\n",
            "memory usage: 4.6+ MB\n"
          ],
          "name": "stdout"
        }
      ]
    },
    {
      "cell_type": "code",
      "metadata": {
        "colab": {
          "base_uri": "https://localhost:8080/",
          "height": 559
        },
        "id": "Lmv3RoiEeAGG",
        "outputId": "39f7cb6f-b9aa-482b-86ba-cc0a36193d9c"
      },
      "source": [
        "missingno.matrix(df)"
      ],
      "execution_count": 5,
      "outputs": [
        {
          "output_type": "execute_result",
          "data": {
            "text/plain": [
              "<matplotlib.axes._subplots.AxesSubplot at 0x7fa6c0f8b668>"
            ]
          },
          "metadata": {
            "tags": []
          },
          "execution_count": 5
        },
        {
          "output_type": "display_data",
          "data": {
            "image/png": "[encoded data removed]",
            "text/plain": [
              "<Figure size 1800x720 with 2 Axes>"
            ]
          },
          "metadata": {
            "tags": [],
            "needs_background": "light"
          }
        }
      ]
    },
    {
      "cell_type": "markdown",
      "metadata": {
        "id": "mlKrJnbwewka"
      },
      "source": [
        "\"Black\" in the data depicts the column is fill with data and \"White\" depicts they have null values in that particular area\n",
        "\n",
        "So, we can conclude that only \"Gender\" have the null values and seems quite much"
      ]
    },
    {
      "cell_type": "code",
      "metadata": {
        "colab": {
          "base_uri": "https://localhost:8080/"
        },
        "id": "wATfIvnoooov",
        "outputId": "20608a1e-60ba-4ced-bed7-ad031bd7ac57"
      },
      "source": [
        "df.isnull().sum()"
      ],
      "execution_count": 6,
      "outputs": [
        {
          "output_type": "execute_result",
          "data": {
            "text/plain": [
              "ID                          0\n",
              "Agency                      0\n",
              "Agency Type                 0\n",
              "Distribution Channel        0\n",
              "Product Name                0\n",
              "Claim                       0\n",
              "Duration                    0\n",
              "Destination                 0\n",
              "Net Sales                   0\n",
              "Commision (in value)        0\n",
              "Gender                  35953\n",
              "Age                         0\n",
              "dtype: int64"
            ]
          },
          "metadata": {
            "tags": []
          },
          "execution_count": 6
        }
      ]
    },
    {
      "cell_type": "code",
      "metadata": {
        "id": "JMS2J0fkoSog"
      },
      "source": [
        "df.fillna('notSpecified', axis=1, inplace=True)"
      ],
      "execution_count": 7,
      "outputs": []
    },
    {
      "cell_type": "code",
      "metadata": {
        "colab": {
          "base_uri": "https://localhost:8080/",
          "height": 284
        },
        "id": "KmP0o1k6owMb",
        "outputId": "356115b2-a192-448f-9bf0-06c11596419a"
      },
      "source": [
        "df.describe()"
      ],
      "execution_count": 8,
      "outputs": [
        {
          "output_type": "execute_result",
          "data": {
            "text/html": [
              "<div>\n",
              "<style scoped>\n",
              "    .dataframe tbody tr th:only-of-type {\n",
              "        vertical-align: middle;\n",
              "    }\n",
              "\n",
              "    .dataframe tbody tr th {\n",
              "        vertical-align: top;\n",
              "    }\n",
              "\n",
              "    .dataframe thead th {\n",
              "        text-align: right;\n",
              "    }\n",
              "</style>\n",
              "<table border=\"1\" class=\"dataframe\">\n",
              "  <thead>\n",
              "    <tr style=\"text-align: right;\">\n",
              "      <th></th>\n",
              "      <th>ID</th>\n",
              "      <th>Claim</th>\n",
              "      <th>Duration</th>\n",
              "      <th>Net Sales</th>\n",
              "      <th>Commision (in value)</th>\n",
              "      <th>Age</th>\n",
              "    </tr>\n",
              "  </thead>\n",
              "  <tbody>\n",
              "    <tr>\n",
              "      <th>count</th>\n",
              "      <td>50553.000000</td>\n",
              "      <td>50553.000000</td>\n",
              "      <td>50553.000000</td>\n",
              "      <td>50553.000000</td>\n",
              "      <td>50553.00000</td>\n",
              "      <td>50553.000000</td>\n",
              "    </tr>\n",
              "    <tr>\n",
              "      <th>mean</th>\n",
              "      <td>31679.740134</td>\n",
              "      <td>0.014658</td>\n",
              "      <td>49.425969</td>\n",
              "      <td>40.800977</td>\n",
              "      <td>9.83809</td>\n",
              "      <td>40.011236</td>\n",
              "    </tr>\n",
              "    <tr>\n",
              "      <th>std</th>\n",
              "      <td>18288.265350</td>\n",
              "      <td>0.120180</td>\n",
              "      <td>101.434647</td>\n",
              "      <td>48.899683</td>\n",
              "      <td>19.91004</td>\n",
              "      <td>14.076566</td>\n",
              "    </tr>\n",
              "    <tr>\n",
              "      <th>min</th>\n",
              "      <td>0.000000</td>\n",
              "      <td>0.000000</td>\n",
              "      <td>-2.000000</td>\n",
              "      <td>-389.000000</td>\n",
              "      <td>0.00000</td>\n",
              "      <td>0.000000</td>\n",
              "    </tr>\n",
              "    <tr>\n",
              "      <th>25%</th>\n",
              "      <td>15891.000000</td>\n",
              "      <td>0.000000</td>\n",
              "      <td>9.000000</td>\n",
              "      <td>18.000000</td>\n",
              "      <td>0.00000</td>\n",
              "      <td>35.000000</td>\n",
              "    </tr>\n",
              "    <tr>\n",
              "      <th>50%</th>\n",
              "      <td>31657.000000</td>\n",
              "      <td>0.000000</td>\n",
              "      <td>22.000000</td>\n",
              "      <td>26.500000</td>\n",
              "      <td>0.00000</td>\n",
              "      <td>36.000000</td>\n",
              "    </tr>\n",
              "    <tr>\n",
              "      <th>75%</th>\n",
              "      <td>47547.000000</td>\n",
              "      <td>0.000000</td>\n",
              "      <td>53.000000</td>\n",
              "      <td>48.000000</td>\n",
              "      <td>11.55000</td>\n",
              "      <td>44.000000</td>\n",
              "    </tr>\n",
              "    <tr>\n",
              "      <th>max</th>\n",
              "      <td>63325.000000</td>\n",
              "      <td>1.000000</td>\n",
              "      <td>4881.000000</td>\n",
              "      <td>810.000000</td>\n",
              "      <td>283.50000</td>\n",
              "      <td>118.000000</td>\n",
              "    </tr>\n",
              "  </tbody>\n",
              "</table>\n",
              "</div>"
            ],
            "text/plain": [
              "                 ID         Claim  ...  Commision (in value)           Age\n",
              "count  50553.000000  50553.000000  ...           50553.00000  50553.000000\n",
              "mean   31679.740134      0.014658  ...               9.83809     40.011236\n",
              "std    18288.265350      0.120180  ...              19.91004     14.076566\n",
              "min        0.000000      0.000000  ...               0.00000      0.000000\n",
              "25%    15891.000000      0.000000  ...               0.00000     35.000000\n",
              "50%    31657.000000      0.000000  ...               0.00000     36.000000\n",
              "75%    47547.000000      0.000000  ...              11.55000     44.000000\n",
              "max    63325.000000      1.000000  ...             283.50000    118.000000\n",
              "\n",
              "[8 rows x 6 columns]"
            ]
          },
          "metadata": {
            "tags": []
          },
          "execution_count": 8
        }
      ]
    },
    {
      "cell_type": "code",
      "metadata": {
        "colab": {
          "base_uri": "https://localhost:8080/"
        },
        "id": "PfPLugTrpQY_",
        "outputId": "a2a34680-7c87-48ab-d059-aba76b7cd723"
      },
      "source": [
        "df.isna().sum()"
      ],
      "execution_count": 9,
      "outputs": [
        {
          "output_type": "execute_result",
          "data": {
            "text/plain": [
              "ID                      0\n",
              "Agency                  0\n",
              "Agency Type             0\n",
              "Distribution Channel    0\n",
              "Product Name            0\n",
              "Claim                   0\n",
              "Duration                0\n",
              "Destination             0\n",
              "Net Sales               0\n",
              "Commision (in value)    0\n",
              "Gender                  0\n",
              "Age                     0\n",
              "dtype: int64"
            ]
          },
          "metadata": {
            "tags": []
          },
          "execution_count": 9
        }
      ]
    },
    {
      "cell_type": "markdown",
      "metadata": {
        "id": "f9gbCHB8pCSC"
      },
      "source": [
        "# Data Exploration and Droping the unwanted colunms"
      ]
    },
    {
      "cell_type": "code",
      "metadata": {
        "id": "uFp0ELhjo9EG"
      },
      "source": [
        "df.drop('ID', axis=1, inplace=True)"
      ],
      "execution_count": 10,
      "outputs": []
    },
    {
      "cell_type": "markdown",
      "metadata": {
        "id": "YAyEleLDdlOS"
      },
      "source": [
        "*Here we can see that there are 6 categorical columns and 5 Numeric columns*"
      ]
    },
    {
      "cell_type": "code",
      "metadata": {
        "colab": {
          "base_uri": "https://localhost:8080/"
        },
        "id": "iKi0p4D9pczt",
        "outputId": "8ef6019f-c85b-4506-db30-de9cec6c461b"
      },
      "source": [
        "df['Agency'].unique()"
      ],
      "execution_count": 11,
      "outputs": [
        {
          "output_type": "execute_result",
          "data": {
            "text/plain": [
              "array(['CWT', 'EPX', 'JZI', 'C2B', 'SSI', 'CSR', 'KML', 'RAB', 'ADM',\n",
              "       'JWT', 'LWC', 'TST', 'ART', 'TTW', 'CBH', 'CCR'], dtype=object)"
            ]
          },
          "metadata": {
            "tags": []
          },
          "execution_count": 11
        }
      ]
    },
    {
      "cell_type": "code",
      "metadata": {
        "colab": {
          "base_uri": "https://localhost:8080/"
        },
        "id": "0SWUDHwspnS0",
        "outputId": "8a6614a6-9002-47a8-ac07-4c0ecdef0a4a"
      },
      "source": [
        "df['Agency Type'].unique()"
      ],
      "execution_count": 12,
      "outputs": [
        {
          "output_type": "execute_result",
          "data": {
            "text/plain": [
              "array(['Travel Agency', 'Airlines'], dtype=object)"
            ]
          },
          "metadata": {
            "tags": []
          },
          "execution_count": 12
        }
      ]
    },
    {
      "cell_type": "code",
      "metadata": {
        "colab": {
          "base_uri": "https://localhost:8080/"
        },
        "id": "P4vlE4dMpwh6",
        "outputId": "42bc5c64-9d94-45fb-db16-b07e8b31523a"
      },
      "source": [
        "df['Distribution Channel'].unique()"
      ],
      "execution_count": 13,
      "outputs": [
        {
          "output_type": "execute_result",
          "data": {
            "text/plain": [
              "array(['Online', 'Offline'], dtype=object)"
            ]
          },
          "metadata": {
            "tags": []
          },
          "execution_count": 13
        }
      ]
    },
    {
      "cell_type": "code",
      "metadata": {
        "colab": {
          "base_uri": "https://localhost:8080/"
        },
        "id": "bDeMcQcIp0HJ",
        "outputId": "dcecbe5b-d70c-47b4-bf89-d137d451e370"
      },
      "source": [
        "df['Claim'].unique()"
      ],
      "execution_count": 14,
      "outputs": [
        {
          "output_type": "execute_result",
          "data": {
            "text/plain": [
              "array([0, 1])"
            ]
          },
          "metadata": {
            "tags": []
          },
          "execution_count": 14
        }
      ]
    },
    {
      "cell_type": "code",
      "metadata": {
        "colab": {
          "base_uri": "https://localhost:8080/"
        },
        "id": "slhM_kxup6R6",
        "outputId": "f4962a88-fe4f-4e28-8c74-4170f1ff79ee"
      },
      "source": [
        "df['Product Name'].unique()"
      ],
      "execution_count": 15,
      "outputs": [
        {
          "output_type": "execute_result",
          "data": {
            "text/plain": [
              "array(['Rental Vehicle Excess Insurance', 'Cancellation Plan',\n",
              "       '2 way Comprehensive Plan', 'Value Plan', 'Basic Plan',\n",
              "       'Bronze Plan', 'Ticket Protector', '1 way Comprehensive Plan',\n",
              "       'Comprehensive Plan', 'Silver Plan', 'Premier Plan',\n",
              "       'Annual Silver Plan', 'Annual Gold Plan',\n",
              "       'Single Trip Travel Protect Silver', 'Travel Cruise Protect',\n",
              "       '24 Protect', 'Annual Travel Protect Gold',\n",
              "       'Single Trip Travel Protect Platinum',\n",
              "       'Single Trip Travel Protect Gold',\n",
              "       'Spouse or Parents Comprehensive Plan', 'Gold Plan',\n",
              "       'Annual Travel Protect Silver', 'Individual Comprehensive Plan',\n",
              "       'Annual Travel Protect Platinum', 'Child Comprehensive Plan'],\n",
              "      dtype=object)"
            ]
          },
          "metadata": {
            "tags": []
          },
          "execution_count": 15
        }
      ]
    },
    {
      "cell_type": "code",
      "metadata": {
        "colab": {
          "base_uri": "https://localhost:8080/"
        },
        "id": "rnO9wj7Kpjjs",
        "outputId": "50f27dcc-5117-4740-d2b5-673e87360eda"
      },
      "source": [
        "df['Gender'].unique()"
      ],
      "execution_count": 16,
      "outputs": [
        {
          "output_type": "execute_result",
          "data": {
            "text/plain": [
              "array(['notSpecified', 'F', 'M'], dtype=object)"
            ]
          },
          "metadata": {
            "tags": []
          },
          "execution_count": 16
        }
      ]
    },
    {
      "cell_type": "code",
      "metadata": {
        "colab": {
          "base_uri": "https://localhost:8080/",
          "height": 920
        },
        "id": "th1KdLXfqO-D",
        "outputId": "c666c92f-8f03-40a8-e41e-c373879d62cf"
      },
      "source": [
        "sns.pairplot(df)"
      ],
      "execution_count": 17,
      "outputs": [
        {
          "output_type": "execute_result",
          "data": {
            "text/plain": [
              "<seaborn.axisgrid.PairGrid at 0x7fa6be43ff98>"
            ]
          },
          "metadata": {
            "tags": []
          },
          "execution_count": 17
        },
        {
          "output_type": "display_data",
          "data": {
            "image/png": "[encoded data removed]",
            "text/plain": [
              "<Figure size 900x900 with 30 Axes>"
            ]
          },
          "metadata": {
            "tags": [],
            "needs_background": "light"
          }
        }
      ]
    },
    {
      "cell_type": "code",
      "metadata": {
        "id": "-zIeTc9wtrjn"
      },
      "source": [
        "def outliers_iqr(ys):\n",
        "    quartile_1, quartile_3 = np.percentile(ys, [25, 75])\n",
        "    iqr = quartile_3 - quartile_1\n",
        "    lower_bound = quartile_1 - (iqr * 1.5)\n",
        "    upper_bound = quartile_3 + (iqr * 1.5)\n",
        "    return np.where((ys > upper_bound) | (ys < lower_bound))"
      ],
      "execution_count": 18,
      "outputs": []
    },
    {
      "cell_type": "code",
      "metadata": {
        "colab": {
          "base_uri": "https://localhost:8080/",
          "height": 282
        },
        "id": "sJvQXQcdwb2f",
        "outputId": "e6066772-9f88-4ca7-d092-614cdd0e8078"
      },
      "source": [
        "df['Net Sales'].hist()"
      ],
      "execution_count": 19,
      "outputs": [
        {
          "output_type": "execute_result",
          "data": {
            "text/plain": [
              "<matplotlib.axes._subplots.AxesSubplot at 0x7fa6bbe82e80>"
            ]
          },
          "metadata": {
            "tags": []
          },
          "execution_count": 19
        },
        {
          "output_type": "display_data",
          "data": {
            "image/png": "[encoded data removed]",
            "text/plain": [
              "<Figure size 432x288 with 1 Axes>"
            ]
          },
          "metadata": {
            "tags": [],
            "needs_background": "light"
          }
        }
      ]
    },
    {
      "cell_type": "code",
      "metadata": {
        "colab": {
          "base_uri": "https://localhost:8080/",
          "height": 658
        },
        "id": "_m0ZKhiWZWZB",
        "outputId": "b334ba77-61dc-4459-a6e8-c8480efa7700"
      },
      "source": [
        "dimension = (20,7)\n",
        "fig, ax = plt.subplots(figsize=dimension)\n",
        "plt.xticks(rotation=90)\n",
        "sns.countplot('Destination', data=df)\n"
      ],
      "execution_count": 20,
      "outputs": [
        {
          "output_type": "stream",
          "text": [
            "/usr/local/lib/python3.6/dist-packages/seaborn/_decorators.py:43: FutureWarning: Pass the following variable as a keyword arg: x. From version 0.12, the only valid positional argument will be `data`, and passing other arguments without an explicit keyword will result in an error or misinterpretation.\n",
            "  FutureWarning\n"
          ],
          "name": "stderr"
        },
        {
          "output_type": "execute_result",
          "data": {
            "text/plain": [
              "<matplotlib.axes._subplots.AxesSubplot at 0x7fa6ba571b00>"
            ]
          },
          "metadata": {
            "tags": []
          },
          "execution_count": 20
        },
        {
          "output_type": "display_data",
          "data": {
            "image/png": "[encoded data removed]",
            "text/plain": [
              "<Figure size 1440x504 with 1 Axes>"
            ]
          },
          "metadata": {
            "tags": [],
            "needs_background": "light"
          }
        }
      ]
    },
    {
      "cell_type": "code",
      "metadata": {
        "colab": {
          "base_uri": "https://localhost:8080/",
          "height": 402
        },
        "id": "fCIpKzWfbS5M",
        "outputId": "003b81a4-113e-446e-b988-50f172baaa83"
      },
      "source": [
        "df_numeric = df._get_numeric_data()\n",
        "df_numeric"
      ],
      "execution_count": 21,
      "outputs": [
        {
          "output_type": "execute_result",
          "data": {
            "text/html": [
              "<div>\n",
              "<style scoped>\n",
              "    .dataframe tbody tr th:only-of-type {\n",
              "        vertical-align: middle;\n",
              "    }\n",
              "\n",
              "    .dataframe tbody tr th {\n",
              "        vertical-align: top;\n",
              "    }\n",
              "\n",
              "    .dataframe thead th {\n",
              "        text-align: right;\n",
              "    }\n",
              "</style>\n",
              "<table border=\"1\" class=\"dataframe\">\n",
              "  <thead>\n",
              "    <tr style=\"text-align: right;\">\n",
              "      <th></th>\n",
              "      <th>Claim</th>\n",
              "      <th>Duration</th>\n",
              "      <th>Net Sales</th>\n",
              "      <th>Commision (in value)</th>\n",
              "      <th>Age</th>\n",
              "    </tr>\n",
              "  </thead>\n",
              "  <tbody>\n",
              "    <tr>\n",
              "      <th>0</th>\n",
              "      <td>0</td>\n",
              "      <td>7</td>\n",
              "      <td>0.0</td>\n",
              "      <td>17.82</td>\n",
              "      <td>31</td>\n",
              "    </tr>\n",
              "    <tr>\n",
              "      <th>1</th>\n",
              "      <td>0</td>\n",
              "      <td>85</td>\n",
              "      <td>69.0</td>\n",
              "      <td>0.00</td>\n",
              "      <td>36</td>\n",
              "    </tr>\n",
              "    <tr>\n",
              "      <th>2</th>\n",
              "      <td>0</td>\n",
              "      <td>11</td>\n",
              "      <td>19.8</td>\n",
              "      <td>11.88</td>\n",
              "      <td>75</td>\n",
              "    </tr>\n",
              "    <tr>\n",
              "      <th>3</th>\n",
              "      <td>0</td>\n",
              "      <td>16</td>\n",
              "      <td>20.0</td>\n",
              "      <td>0.00</td>\n",
              "      <td>32</td>\n",
              "    </tr>\n",
              "    <tr>\n",
              "      <th>4</th>\n",
              "      <td>0</td>\n",
              "      <td>10</td>\n",
              "      <td>15.0</td>\n",
              "      <td>0.00</td>\n",
              "      <td>29</td>\n",
              "    </tr>\n",
              "    <tr>\n",
              "      <th>...</th>\n",
              "      <td>...</td>\n",
              "      <td>...</td>\n",
              "      <td>...</td>\n",
              "      <td>...</td>\n",
              "      <td>...</td>\n",
              "    </tr>\n",
              "    <tr>\n",
              "      <th>50548</th>\n",
              "      <td>0</td>\n",
              "      <td>11</td>\n",
              "      <td>99.0</td>\n",
              "      <td>59.40</td>\n",
              "      <td>50</td>\n",
              "    </tr>\n",
              "    <tr>\n",
              "      <th>50549</th>\n",
              "      <td>0</td>\n",
              "      <td>48</td>\n",
              "      <td>20.0</td>\n",
              "      <td>0.00</td>\n",
              "      <td>36</td>\n",
              "    </tr>\n",
              "    <tr>\n",
              "      <th>50550</th>\n",
              "      <td>0</td>\n",
              "      <td>24</td>\n",
              "      <td>28.0</td>\n",
              "      <td>10.64</td>\n",
              "      <td>48</td>\n",
              "    </tr>\n",
              "    <tr>\n",
              "      <th>50551</th>\n",
              "      <td>0</td>\n",
              "      <td>25</td>\n",
              "      <td>15.0</td>\n",
              "      <td>0.00</td>\n",
              "      <td>36</td>\n",
              "    </tr>\n",
              "    <tr>\n",
              "      <th>50552</th>\n",
              "      <td>0</td>\n",
              "      <td>9</td>\n",
              "      <td>20.0</td>\n",
              "      <td>0.00</td>\n",
              "      <td>59</td>\n",
              "    </tr>\n",
              "  </tbody>\n",
              "</table>\n",
              "<p>50553 rows × 5 columns</p>\n",
              "</div>"
            ],
            "text/plain": [
              "       Claim  Duration  Net Sales  Commision (in value)  Age\n",
              "0          0         7        0.0                 17.82   31\n",
              "1          0        85       69.0                  0.00   36\n",
              "2          0        11       19.8                 11.88   75\n",
              "3          0        16       20.0                  0.00   32\n",
              "4          0        10       15.0                  0.00   29\n",
              "...      ...       ...        ...                   ...  ...\n",
              "50548      0        11       99.0                 59.40   50\n",
              "50549      0        48       20.0                  0.00   36\n",
              "50550      0        24       28.0                 10.64   48\n",
              "50551      0        25       15.0                  0.00   36\n",
              "50552      0         9       20.0                  0.00   59\n",
              "\n",
              "[50553 rows x 5 columns]"
            ]
          },
          "metadata": {
            "tags": []
          },
          "execution_count": 21
        }
      ]
    },
    {
      "cell_type": "code",
      "metadata": {
        "colab": {
          "base_uri": "https://localhost:8080/",
          "height": 1000
        },
        "id": "BzPEtDnigsDt",
        "outputId": "914e1525-1706-4ed8-8649-23a07a53ca6f"
      },
      "source": [
        "for i, col in enumerate(df_numeric.columns):\n",
        "    plt.figure(i)\n",
        "    sns.distplot(df_numeric[col])"
      ],
      "execution_count": 22,
      "outputs": [
        {
          "output_type": "stream",
          "text": [
            "/usr/local/lib/python3.6/dist-packages/seaborn/distributions.py:2551: FutureWarning: `distplot` is a deprecated function and will be removed in a future version. Please adapt your code to use either `displot` (a figure-level function with similar flexibility) or `histplot` (an axes-level function for histograms).\n",
            "  warnings.warn(msg, FutureWarning)\n",
            "/usr/local/lib/python3.6/dist-packages/seaborn/distributions.py:2551: FutureWarning: `distplot` is a deprecated function and will be removed in a future version. Please adapt your code to use either `displot` (a figure-level function with similar flexibility) or `histplot` (an axes-level function for histograms).\n",
            "  warnings.warn(msg, FutureWarning)\n",
            "/usr/local/lib/python3.6/dist-packages/seaborn/distributions.py:2551: FutureWarning: `distplot` is a deprecated function and will be removed in a future version. Please adapt your code to use either `displot` (a figure-level function with similar flexibility) or `histplot` (an axes-level function for histograms).\n",
            "  warnings.warn(msg, FutureWarning)\n",
            "/usr/local/lib/python3.6/dist-packages/seaborn/distributions.py:2551: FutureWarning: `distplot` is a deprecated function and will be removed in a future version. Please adapt your code to use either `displot` (a figure-level function with similar flexibility) or `histplot` (an axes-level function for histograms).\n",
            "  warnings.warn(msg, FutureWarning)\n",
            "/usr/local/lib/python3.6/dist-packages/seaborn/distributions.py:2551: FutureWarning: `distplot` is a deprecated function and will be removed in a future version. Please adapt your code to use either `displot` (a figure-level function with similar flexibility) or `histplot` (an axes-level function for histograms).\n",
            "  warnings.warn(msg, FutureWarning)\n"
          ],
          "name": "stderr"
        },
        {
          "output_type": "display_data",
          "data": {
            "image/png": "[encoded data removed]",
            "text/plain": [
              "<Figure size 432x288 with 1 Axes>"
            ]
          },
          "metadata": {
            "tags": [],
            "needs_background": "light"
          }
        },
        {
          "output_type": "display_data",
          "data": {
            "image/png": "[encoded data removed]",
            "text/plain": [
              "<Figure size 432x288 with 1 Axes>"
            ]
          },
          "metadata": {
            "tags": [],
            "needs_background": "light"
          }
        },
        {
          "output_type": "display_data",
          "data": {
            "image/png": "[encoded data removed]",
            "text/plain": [
              "<Figure size 432x288 with 1 Axes>"
            ]
          },
          "metadata": {
            "tags": [],
            "needs_background": "light"
          }
        },
        {
          "output_type": "display_data",
          "data": {
            "image/png": "[encoded data removed]",
            "text/plain": [
              "<Figure size 432x288 with 1 Axes>"
            ]
          },
          "metadata": {
            "tags": [],
            "needs_background": "light"
          }
        },
        {
          "output_type": "display_data",
          "data": {
            "image/png": "[encoded data removed]",
            "text/plain": [
              "<Figure size 432x288 with 1 Axes>"
            ]
          },
          "metadata": {
            "tags": [],
            "needs_background": "light"
          }
        }
      ]
    },
    {
      "cell_type": "code",
      "metadata": {
        "colab": {
          "base_uri": "https://localhost:8080/",
          "height": 418
        },
        "id": "s-5ZUeGVw1Pw",
        "outputId": "f75fddad-ed62-44c2-bb57-fdd0b8627e71"
      },
      "source": [
        "dimension = (15,5)\n",
        "fig, ax = plt.subplots(figsize=dimension)\n",
        "plt.xticks(rotation=90)\n",
        "sns.countplot('Agency', data=df)"
      ],
      "execution_count": 23,
      "outputs": [
        {
          "output_type": "stream",
          "text": [
            "/usr/local/lib/python3.6/dist-packages/seaborn/_decorators.py:43: FutureWarning: Pass the following variable as a keyword arg: x. From version 0.12, the only valid positional argument will be `data`, and passing other arguments without an explicit keyword will result in an error or misinterpretation.\n",
            "  FutureWarning\n"
          ],
          "name": "stderr"
        },
        {
          "output_type": "execute_result",
          "data": {
            "text/plain": [
              "<matplotlib.axes._subplots.AxesSubplot at 0x7fa6b8176da0>"
            ]
          },
          "metadata": {
            "tags": []
          },
          "execution_count": 23
        },
        {
          "output_type": "display_data",
          "data": {
            "image/png": "[encoded data removed]",
            "text/plain": [
              "<Figure size 1080x360 with 1 Axes>"
            ]
          },
          "metadata": {
            "tags": [],
            "needs_background": "light"
          }
        }
      ]
    },
    {
      "cell_type": "code",
      "metadata": {
        "colab": {
          "base_uri": "https://localhost:8080/",
          "height": 303
        },
        "id": "yeJJJCmww09A",
        "outputId": "911c3d9f-3856-4657-c58a-f500949689e1"
      },
      "source": [
        "sns.catplot(x='Agency', y='Commision (in value)', hue='Claim', kind='bar', palette='Set1', data=df, height=4, aspect=4)\n",
        "plt.title('Agency w.r.t commision by claim')\n",
        "plt.show()"
      ],
      "execution_count": 24,
      "outputs": [
        {
          "output_type": "display_data",
          "data": {
            "image/png": "[encoded data removed]",
            "text/plain": [
              "<Figure size 1194.38x288 with 1 Axes>"
            ]
          },
          "metadata": {
            "tags": [],
            "needs_background": "light"
          }
        }
      ]
    },
    {
      "cell_type": "code",
      "metadata": {
        "colab": {
          "base_uri": "https://localhost:8080/",
          "height": 303
        },
        "id": "9VvNbggPx3Pb",
        "outputId": "37dd0175-29db-4b2e-944a-96df48c76309"
      },
      "source": [
        "sns.catplot(x='Gender', y='Net Sales', hue='Claim', kind='bar', palette='Set1', data=df, height=4, aspect=4)\n",
        "plt.title('Gender w.r.t commision by claim')\n",
        "plt.show()"
      ],
      "execution_count": 25,
      "outputs": [
        {
          "output_type": "display_data",
          "data": {
            "image/png": "[encoded data removed]",
            "text/plain": [
              "<Figure size 1194.38x288 with 1 Axes>"
            ]
          },
          "metadata": {
            "tags": [],
            "needs_background": "light"
          }
        }
      ]
    },
    {
      "cell_type": "code",
      "metadata": {
        "colab": {
          "base_uri": "https://localhost:8080/"
        },
        "id": "glYPXWh5g6B5",
        "outputId": "ea2fec66-cb68-46e5-d3ce-1d40817f0306"
      },
      "source": [
        "df['Duration'].describe()"
      ],
      "execution_count": 26,
      "outputs": [
        {
          "output_type": "execute_result",
          "data": {
            "text/plain": [
              "count    50553.000000\n",
              "mean        49.425969\n",
              "std        101.434647\n",
              "min         -2.000000\n",
              "25%          9.000000\n",
              "50%         22.000000\n",
              "75%         53.000000\n",
              "max       4881.000000\n",
              "Name: Duration, dtype: float64"
            ]
          },
          "metadata": {
            "tags": []
          },
          "execution_count": 26
        }
      ]
    },
    {
      "cell_type": "code",
      "metadata": {
        "colab": {
          "base_uri": "https://localhost:8080/"
        },
        "id": "1L4I_C83mPSa",
        "outputId": "9bc2baea-63a4-4efe-b707-bbc446cb13ec"
      },
      "source": [
        "df_temp=df['Duration']<0\n",
        "df_temp.sum()"
      ],
      "execution_count": 27,
      "outputs": [
        {
          "output_type": "execute_result",
          "data": {
            "text/plain": [
              "3"
            ]
          },
          "metadata": {
            "tags": []
          },
          "execution_count": 27
        }
      ]
    },
    {
      "cell_type": "code",
      "metadata": {
        "id": "Gigozn42mZpx"
      },
      "source": [
        "df.loc[df['Duration'] < 0, 'Duration'] = 49.317"
      ],
      "execution_count": 28,
      "outputs": []
    },
    {
      "cell_type": "code",
      "metadata": {
        "colab": {
          "base_uri": "https://localhost:8080/"
        },
        "id": "JmEVpvmlme3a",
        "outputId": "d7d99a03-470a-4780-c6bf-174373ccc42e"
      },
      "source": [
        "df['Duration'].describe()"
      ],
      "execution_count": 29,
      "outputs": [
        {
          "output_type": "execute_result",
          "data": {
            "text/plain": [
              "count    50553.000000\n",
              "mean        49.428975\n",
              "std        101.433893\n",
              "min          0.000000\n",
              "25%          9.000000\n",
              "50%         22.000000\n",
              "75%         53.000000\n",
              "max       4881.000000\n",
              "Name: Duration, dtype: float64"
            ]
          },
          "metadata": {
            "tags": []
          },
          "execution_count": 29
        }
      ]
    },
    {
      "cell_type": "code",
      "metadata": {
        "colab": {
          "base_uri": "https://localhost:8080/",
          "height": 580
        },
        "id": "naxIn4pdmhDR",
        "outputId": "08cffbbd-c3c1-4c24-8352-2a078bbf19b7"
      },
      "source": [
        "pd.crosstab(df['Agency'],df['Agency Type'],margins=True)"
      ],
      "execution_count": 30,
      "outputs": [
        {
          "output_type": "execute_result",
          "data": {
            "text/html": [
              "<div>\n",
              "<style scoped>\n",
              "    .dataframe tbody tr th:only-of-type {\n",
              "        vertical-align: middle;\n",
              "    }\n",
              "\n",
              "    .dataframe tbody tr th {\n",
              "        vertical-align: top;\n",
              "    }\n",
              "\n",
              "    .dataframe thead th {\n",
              "        text-align: right;\n",
              "    }\n",
              "</style>\n",
              "<table border=\"1\" class=\"dataframe\">\n",
              "  <thead>\n",
              "    <tr style=\"text-align: right;\">\n",
              "      <th>Agency Type</th>\n",
              "      <th>Airlines</th>\n",
              "      <th>Travel Agency</th>\n",
              "      <th>All</th>\n",
              "    </tr>\n",
              "    <tr>\n",
              "      <th>Agency</th>\n",
              "      <th></th>\n",
              "      <th></th>\n",
              "      <th></th>\n",
              "    </tr>\n",
              "  </thead>\n",
              "  <tbody>\n",
              "    <tr>\n",
              "      <th>ADM</th>\n",
              "      <td>0</td>\n",
              "      <td>63</td>\n",
              "      <td>63</td>\n",
              "    </tr>\n",
              "    <tr>\n",
              "      <th>ART</th>\n",
              "      <td>272</td>\n",
              "      <td>0</td>\n",
              "      <td>272</td>\n",
              "    </tr>\n",
              "    <tr>\n",
              "      <th>C2B</th>\n",
              "      <td>6631</td>\n",
              "      <td>0</td>\n",
              "      <td>6631</td>\n",
              "    </tr>\n",
              "    <tr>\n",
              "      <th>CBH</th>\n",
              "      <td>0</td>\n",
              "      <td>81</td>\n",
              "      <td>81</td>\n",
              "    </tr>\n",
              "    <tr>\n",
              "      <th>CCR</th>\n",
              "      <td>0</td>\n",
              "      <td>158</td>\n",
              "      <td>158</td>\n",
              "    </tr>\n",
              "    <tr>\n",
              "      <th>CSR</th>\n",
              "      <td>0</td>\n",
              "      <td>68</td>\n",
              "      <td>68</td>\n",
              "    </tr>\n",
              "    <tr>\n",
              "      <th>CWT</th>\n",
              "      <td>0</td>\n",
              "      <td>6840</td>\n",
              "      <td>6840</td>\n",
              "    </tr>\n",
              "    <tr>\n",
              "      <th>EPX</th>\n",
              "      <td>0</td>\n",
              "      <td>28002</td>\n",
              "      <td>28002</td>\n",
              "    </tr>\n",
              "    <tr>\n",
              "      <th>JWT</th>\n",
              "      <td>606</td>\n",
              "      <td>0</td>\n",
              "      <td>606</td>\n",
              "    </tr>\n",
              "    <tr>\n",
              "      <th>JZI</th>\n",
              "      <td>5059</td>\n",
              "      <td>0</td>\n",
              "      <td>5059</td>\n",
              "    </tr>\n",
              "    <tr>\n",
              "      <th>KML</th>\n",
              "      <td>0</td>\n",
              "      <td>317</td>\n",
              "      <td>317</td>\n",
              "    </tr>\n",
              "    <tr>\n",
              "      <th>LWC</th>\n",
              "      <td>0</td>\n",
              "      <td>548</td>\n",
              "      <td>548</td>\n",
              "    </tr>\n",
              "    <tr>\n",
              "      <th>RAB</th>\n",
              "      <td>571</td>\n",
              "      <td>0</td>\n",
              "      <td>571</td>\n",
              "    </tr>\n",
              "    <tr>\n",
              "      <th>SSI</th>\n",
              "      <td>839</td>\n",
              "      <td>0</td>\n",
              "      <td>839</td>\n",
              "    </tr>\n",
              "    <tr>\n",
              "      <th>TST</th>\n",
              "      <td>0</td>\n",
              "      <td>421</td>\n",
              "      <td>421</td>\n",
              "    </tr>\n",
              "    <tr>\n",
              "      <th>TTW</th>\n",
              "      <td>0</td>\n",
              "      <td>77</td>\n",
              "      <td>77</td>\n",
              "    </tr>\n",
              "    <tr>\n",
              "      <th>All</th>\n",
              "      <td>13978</td>\n",
              "      <td>36575</td>\n",
              "      <td>50553</td>\n",
              "    </tr>\n",
              "  </tbody>\n",
              "</table>\n",
              "</div>"
            ],
            "text/plain": [
              "Agency Type  Airlines  Travel Agency    All\n",
              "Agency                                     \n",
              "ADM                 0             63     63\n",
              "ART               272              0    272\n",
              "C2B              6631              0   6631\n",
              "CBH                 0             81     81\n",
              "CCR                 0            158    158\n",
              "CSR                 0             68     68\n",
              "CWT                 0           6840   6840\n",
              "EPX                 0          28002  28002\n",
              "JWT               606              0    606\n",
              "JZI              5059              0   5059\n",
              "KML                 0            317    317\n",
              "LWC                 0            548    548\n",
              "RAB               571              0    571\n",
              "SSI               839              0    839\n",
              "TST                 0            421    421\n",
              "TTW                 0             77     77\n",
              "All             13978          36575  50553"
            ]
          },
          "metadata": {
            "tags": []
          },
          "execution_count": 30
        }
      ]
    },
    {
      "cell_type": "code",
      "metadata": {
        "colab": {
          "base_uri": "https://localhost:8080/",
          "height": 550
        },
        "id": "hNH7EMQ-sdU-",
        "outputId": "bd37256c-ad21-48eb-950d-3a939bf33f9e"
      },
      "source": [
        "table1=pd.crosstab(df['Agency'],df['Claim'],margins=True)\n",
        "\n",
        "table1.drop(index=['All'],inplace=True)\n",
        "table1=(table1.div(table1['All'],axis=0))*100\n",
        "\n",
        "table1['mean commision']=df.groupby('Agency')['Commision (in value)'].mean()\n",
        "table1"
      ],
      "execution_count": 31,
      "outputs": [
        {
          "output_type": "execute_result",
          "data": {
            "text/html": [
              "<div>\n",
              "<style scoped>\n",
              "    .dataframe tbody tr th:only-of-type {\n",
              "        vertical-align: middle;\n",
              "    }\n",
              "\n",
              "    .dataframe tbody tr th {\n",
              "        vertical-align: top;\n",
              "    }\n",
              "\n",
              "    .dataframe thead th {\n",
              "        text-align: right;\n",
              "    }\n",
              "</style>\n",
              "<table border=\"1\" class=\"dataframe\">\n",
              "  <thead>\n",
              "    <tr style=\"text-align: right;\">\n",
              "      <th>Claim</th>\n",
              "      <th>0</th>\n",
              "      <th>1</th>\n",
              "      <th>All</th>\n",
              "      <th>mean commision</th>\n",
              "    </tr>\n",
              "    <tr>\n",
              "      <th>Agency</th>\n",
              "      <th></th>\n",
              "      <th></th>\n",
              "      <th></th>\n",
              "      <th></th>\n",
              "    </tr>\n",
              "  </thead>\n",
              "  <tbody>\n",
              "    <tr>\n",
              "      <th>ADM</th>\n",
              "      <td>100.000000</td>\n",
              "      <td>0.000000</td>\n",
              "      <td>100.0</td>\n",
              "      <td>36.998730</td>\n",
              "    </tr>\n",
              "    <tr>\n",
              "      <th>ART</th>\n",
              "      <td>99.632353</td>\n",
              "      <td>0.367647</td>\n",
              "      <td>100.0</td>\n",
              "      <td>10.685956</td>\n",
              "    </tr>\n",
              "    <tr>\n",
              "      <th>C2B</th>\n",
              "      <td>93.379581</td>\n",
              "      <td>6.620419</td>\n",
              "      <td>100.0</td>\n",
              "      <td>20.572378</td>\n",
              "    </tr>\n",
              "    <tr>\n",
              "      <th>CBH</th>\n",
              "      <td>98.765432</td>\n",
              "      <td>1.234568</td>\n",
              "      <td>100.0</td>\n",
              "      <td>9.940741</td>\n",
              "    </tr>\n",
              "    <tr>\n",
              "      <th>CCR</th>\n",
              "      <td>98.101266</td>\n",
              "      <td>1.898734</td>\n",
              "      <td>100.0</td>\n",
              "      <td>10.280127</td>\n",
              "    </tr>\n",
              "    <tr>\n",
              "      <th>CSR</th>\n",
              "      <td>98.529412</td>\n",
              "      <td>1.470588</td>\n",
              "      <td>100.0</td>\n",
              "      <td>11.156912</td>\n",
              "    </tr>\n",
              "    <tr>\n",
              "      <th>CWT</th>\n",
              "      <td>99.005848</td>\n",
              "      <td>0.994152</td>\n",
              "      <td>100.0</td>\n",
              "      <td>32.254026</td>\n",
              "    </tr>\n",
              "    <tr>\n",
              "      <th>EPX</th>\n",
              "      <td>99.457182</td>\n",
              "      <td>0.542818</td>\n",
              "      <td>100.0</td>\n",
              "      <td>0.000000</td>\n",
              "    </tr>\n",
              "    <tr>\n",
              "      <th>JWT</th>\n",
              "      <td>99.504950</td>\n",
              "      <td>0.495050</td>\n",
              "      <td>100.0</td>\n",
              "      <td>22.010561</td>\n",
              "    </tr>\n",
              "    <tr>\n",
              "      <th>JZI</th>\n",
              "      <td>99.505831</td>\n",
              "      <td>0.494169</td>\n",
              "      <td>100.0</td>\n",
              "      <td>11.770696</td>\n",
              "    </tr>\n",
              "    <tr>\n",
              "      <th>KML</th>\n",
              "      <td>97.791798</td>\n",
              "      <td>2.208202</td>\n",
              "      <td>100.0</td>\n",
              "      <td>22.025615</td>\n",
              "    </tr>\n",
              "    <tr>\n",
              "      <th>LWC</th>\n",
              "      <td>94.708029</td>\n",
              "      <td>5.291971</td>\n",
              "      <td>100.0</td>\n",
              "      <td>76.591314</td>\n",
              "    </tr>\n",
              "    <tr>\n",
              "      <th>RAB</th>\n",
              "      <td>99.824869</td>\n",
              "      <td>0.175131</td>\n",
              "      <td>100.0</td>\n",
              "      <td>7.200701</td>\n",
              "    </tr>\n",
              "    <tr>\n",
              "      <th>SSI</th>\n",
              "      <td>99.404052</td>\n",
              "      <td>0.595948</td>\n",
              "      <td>100.0</td>\n",
              "      <td>1.804207</td>\n",
              "    </tr>\n",
              "    <tr>\n",
              "      <th>TST</th>\n",
              "      <td>99.524941</td>\n",
              "      <td>0.475059</td>\n",
              "      <td>100.0</td>\n",
              "      <td>10.500000</td>\n",
              "    </tr>\n",
              "    <tr>\n",
              "      <th>TTW</th>\n",
              "      <td>94.805195</td>\n",
              "      <td>5.194805</td>\n",
              "      <td>100.0</td>\n",
              "      <td>0.000000</td>\n",
              "    </tr>\n",
              "  </tbody>\n",
              "</table>\n",
              "</div>"
            ],
            "text/plain": [
              "Claim            0         1    All  mean commision\n",
              "Agency                                             \n",
              "ADM     100.000000  0.000000  100.0       36.998730\n",
              "ART      99.632353  0.367647  100.0       10.685956\n",
              "C2B      93.379581  6.620419  100.0       20.572378\n",
              "CBH      98.765432  1.234568  100.0        9.940741\n",
              "CCR      98.101266  1.898734  100.0       10.280127\n",
              "CSR      98.529412  1.470588  100.0       11.156912\n",
              "CWT      99.005848  0.994152  100.0       32.254026\n",
              "EPX      99.457182  0.542818  100.0        0.000000\n",
              "JWT      99.504950  0.495050  100.0       22.010561\n",
              "JZI      99.505831  0.494169  100.0       11.770696\n",
              "KML      97.791798  2.208202  100.0       22.025615\n",
              "LWC      94.708029  5.291971  100.0       76.591314\n",
              "RAB      99.824869  0.175131  100.0        7.200701\n",
              "SSI      99.404052  0.595948  100.0        1.804207\n",
              "TST      99.524941  0.475059  100.0       10.500000\n",
              "TTW      94.805195  5.194805  100.0        0.000000"
            ]
          },
          "metadata": {
            "tags": []
          },
          "execution_count": 31
        }
      ]
    },
    {
      "cell_type": "markdown",
      "metadata": {
        "id": "H0DE_FqXusn5"
      },
      "source": [
        "Previously we have checked that some columns have low Net Sales but High Commison but thats not possible\n",
        "\n",
        "Lets see how many such columns we have here"
      ]
    },
    {
      "cell_type": "code",
      "metadata": {
        "id": "pXUPnCt7tzBc"
      },
      "source": [
        "df6= df['Net Sales']<df['Commision (in value)']"
      ],
      "execution_count": 32,
      "outputs": []
    },
    {
      "cell_type": "code",
      "metadata": {
        "colab": {
          "base_uri": "https://localhost:8080/"
        },
        "id": "BD6dNjMdsBXI",
        "outputId": "e66e6d56-463b-4798-f8e1-beb4b77eecb4"
      },
      "source": [
        "df6.sum()"
      ],
      "execution_count": 33,
      "outputs": [
        {
          "output_type": "execute_result",
          "data": {
            "text/plain": [
              "1598"
            ]
          },
          "metadata": {
            "tags": []
          },
          "execution_count": 33
        }
      ]
    },
    {
      "cell_type": "markdown",
      "metadata": {
        "id": "42jmTWCZu9UZ"
      },
      "source": [
        "We gonna make all comission value 0 where net sales is 0."
      ]
    },
    {
      "cell_type": "code",
      "metadata": {
        "id": "4iVsJ26VthT8"
      },
      "source": [
        "df.loc[df['Net Sales'] == 0.0, 'Commision (in value)'] = 0"
      ],
      "execution_count": 34,
      "outputs": []
    },
    {
      "cell_type": "code",
      "metadata": {
        "colab": {
          "base_uri": "https://localhost:8080/",
          "height": 350
        },
        "id": "EoCPyhpluQ5q",
        "outputId": "7d54db78-137c-4a01-9630-d313f7c6fca6"
      },
      "source": [
        "sns.countplot(df['Claim'])"
      ],
      "execution_count": 35,
      "outputs": [
        {
          "output_type": "stream",
          "text": [
            "/usr/local/lib/python3.6/dist-packages/seaborn/_decorators.py:43: FutureWarning: Pass the following variable as a keyword arg: x. From version 0.12, the only valid positional argument will be `data`, and passing other arguments without an explicit keyword will result in an error or misinterpretation.\n",
            "  FutureWarning\n"
          ],
          "name": "stderr"
        },
        {
          "output_type": "execute_result",
          "data": {
            "text/plain": [
              "<matplotlib.axes._subplots.AxesSubplot at 0x7fa6b7f21ef0>"
            ]
          },
          "metadata": {
            "tags": []
          },
          "execution_count": 35
        },
        {
          "output_type": "display_data",
          "data": {
            "image/png": "[encoded data removed]",
            "text/plain": [
              "<Figure size 432x288 with 1 Axes>"
            ]
          },
          "metadata": {
            "tags": [],
            "needs_background": "light"
          }
        }
      ]
    },
    {
      "cell_type": "markdown",
      "metadata": {
        "id": "8aON2BzNtXUM"
      },
      "source": [
        "# Lets see which features are important for the prediction using Chi Square Test"
      ]
    },
    {
      "cell_type": "code",
      "metadata": {
        "id": "nudv3Dqav6wL"
      },
      "source": [
        "from scipy.stats import chi2_contingency\n",
        "\n",
        "class ChiSquare:\n",
        "    def __init__(self, df):\n",
        "        self.df = df\n",
        "        self.p = None #P-Value\n",
        "        self.chi2 = None #Chi Test Statistic\n",
        "        self.dof = None\n",
        "        self.dfObserved = None\n",
        "        self.dfExpected = None\n",
        "        \n",
        "    def _print_chisquare_result(self, colX, alpha):\n",
        "        result = \"\"\n",
        "        if self.p<alpha:\n",
        "            result=\"{0} is IMPORTANT for Prediction\".format(colX)\n",
        "        else:\n",
        "            result=\"{0} is NOT an important predictor. (Discard {0} from model)\".format(colX)\n",
        "\n",
        "        print(result)\n",
        "        \n",
        "    def TestIndependence(self,colX,colY, alpha=0.05):\n",
        "        X = self.df[colX].astype(str)\n",
        "        Y = self.df[colY].astype(str)\n",
        "        \n",
        "        self.dfObserved = pd.crosstab(Y,X) \n",
        "        chi2, p, dof, expected = chi2_contingency(self.dfObserved.values)\n",
        "        self.p = p\n",
        "        self.chi2 = chi2\n",
        "        self.dof = dof \n",
        "        \n",
        "        self.dfExpected = pd.DataFrame(expected, columns=self.dfObserved.columns, index = self.dfObserved.index)\n",
        "        \n",
        "        self._print_chisquare_result(colX,alpha)"
      ],
      "execution_count": 36,
      "outputs": []
    },
    {
      "cell_type": "code",
      "metadata": {
        "id": "fEKhYvz0xHMr"
      },
      "source": [
        "X = df.drop(['Claim'], axis=1)\n",
        "ct = ChiSquare(df)"
      ],
      "execution_count": 37,
      "outputs": []
    },
    {
      "cell_type": "code",
      "metadata": {
        "colab": {
          "base_uri": "https://localhost:8080/"
        },
        "id": "RMBbj7Zmxoh7",
        "outputId": "2f09333b-68fb-40b1-c4a2-2e3394658b1d"
      },
      "source": [
        "for c in X.columns:\n",
        "    ct.TestIndependence(c, 'Claim')"
      ],
      "execution_count": 38,
      "outputs": [
        {
          "output_type": "stream",
          "text": [
            "Agency is IMPORTANT for Prediction\n",
            "Agency Type is IMPORTANT for Prediction\n",
            "Distribution Channel is NOT an important predictor. (Discard Distribution Channel from model)\n",
            "Product Name is IMPORTANT for Prediction\n",
            "Duration is IMPORTANT for Prediction\n",
            "Destination is IMPORTANT for Prediction\n",
            "Net Sales is IMPORTANT for Prediction\n",
            "Commision (in value) is IMPORTANT for Prediction\n",
            "Gender is IMPORTANT for Prediction\n",
            "Age is IMPORTANT for Prediction\n"
          ],
          "name": "stdout"
        }
      ]
    },
    {
      "cell_type": "code",
      "metadata": {
        "id": "lV5oRJQxxzu4"
      },
      "source": [
        "df.drop(columns=['Distribution Channel','Agency Type'],axis=1,inplace=True)"
      ],
      "execution_count": 39,
      "outputs": []
    },
    {
      "cell_type": "code",
      "metadata": {
        "colab": {
          "base_uri": "https://localhost:8080/"
        },
        "id": "a8lk6M7GySEP",
        "outputId": "6c11e2b9-1bbc-4c10-bc6c-8d822bab38fd"
      },
      "source": [
        "df.info()"
      ],
      "execution_count": 40,
      "outputs": [
        {
          "output_type": "stream",
          "text": [
            "<class 'pandas.core.frame.DataFrame'>\n",
            "RangeIndex: 50553 entries, 0 to 50552\n",
            "Data columns (total 9 columns):\n",
            " #   Column                Non-Null Count  Dtype  \n",
            "---  ------                --------------  -----  \n",
            " 0   Agency                50553 non-null  object \n",
            " 1   Product Name          50553 non-null  object \n",
            " 2   Claim                 50553 non-null  int64  \n",
            " 3   Duration              50553 non-null  float64\n",
            " 4   Destination           50553 non-null  object \n",
            " 5   Net Sales             50553 non-null  float64\n",
            " 6   Commision (in value)  50553 non-null  float64\n",
            " 7   Gender                50553 non-null  object \n",
            " 8   Age                   50553 non-null  int64  \n",
            "dtypes: float64(3), int64(2), object(4)\n",
            "memory usage: 3.5+ MB\n"
          ],
          "name": "stdout"
        }
      ]
    },
    {
      "cell_type": "code",
      "metadata": {
        "id": "ejBJL9e3yT4t"
      },
      "source": [
        "y=df['Claim']"
      ],
      "execution_count": 41,
      "outputs": []
    },
    {
      "cell_type": "code",
      "metadata": {
        "id": "7mTplSqW1Cyh"
      },
      "source": [
        "X=df.drop('Claim', axis=1)"
      ],
      "execution_count": 42,
      "outputs": []
    },
    {
      "cell_type": "code",
      "metadata": {
        "colab": {
          "base_uri": "https://localhost:8080/"
        },
        "id": "MHMRN4_H1hXx",
        "outputId": "c459de28-d290-40cc-c7dd-6711cb70151f"
      },
      "source": [
        "X.info()"
      ],
      "execution_count": 43,
      "outputs": [
        {
          "output_type": "stream",
          "text": [
            "<class 'pandas.core.frame.DataFrame'>\n",
            "RangeIndex: 50553 entries, 0 to 50552\n",
            "Data columns (total 8 columns):\n",
            " #   Column                Non-Null Count  Dtype  \n",
            "---  ------                --------------  -----  \n",
            " 0   Agency                50553 non-null  object \n",
            " 1   Product Name          50553 non-null  object \n",
            " 2   Duration              50553 non-null  float64\n",
            " 3   Destination           50553 non-null  object \n",
            " 4   Net Sales             50553 non-null  float64\n",
            " 5   Commision (in value)  50553 non-null  float64\n",
            " 6   Gender                50553 non-null  object \n",
            " 7   Age                   50553 non-null  int64  \n",
            "dtypes: float64(3), int64(1), object(4)\n",
            "memory usage: 3.1+ MB\n"
          ],
          "name": "stdout"
        }
      ]
    },
    {
      "cell_type": "code",
      "metadata": {
        "colab": {
          "base_uri": "https://localhost:8080/"
        },
        "id": "xmrazL7j1izM",
        "outputId": "b1e54122-85bc-4fa2-f766-458b696cd338"
      },
      "source": [
        "y"
      ],
      "execution_count": 44,
      "outputs": [
        {
          "output_type": "execute_result",
          "data": {
            "text/plain": [
              "0        0\n",
              "1        0\n",
              "2        0\n",
              "3        0\n",
              "4        0\n",
              "        ..\n",
              "50548    0\n",
              "50549    0\n",
              "50550    0\n",
              "50551    0\n",
              "50552    0\n",
              "Name: Claim, Length: 50553, dtype: int64"
            ]
          },
          "metadata": {
            "tags": []
          },
          "execution_count": 44
        }
      ]
    },
    {
      "cell_type": "code",
      "metadata": {
        "colab": {
          "base_uri": "https://localhost:8080/",
          "height": 402
        },
        "id": "vFE_As6i1kzm",
        "outputId": "9ac06409-688e-42c5-c44d-89d9780ec813"
      },
      "source": [
        "X"
      ],
      "execution_count": 45,
      "outputs": [
        {
          "output_type": "execute_result",
          "data": {
            "text/html": [
              "<div>\n",
              "<style scoped>\n",
              "    .dataframe tbody tr th:only-of-type {\n",
              "        vertical-align: middle;\n",
              "    }\n",
              "\n",
              "    .dataframe tbody tr th {\n",
              "        vertical-align: top;\n",
              "    }\n",
              "\n",
              "    .dataframe thead th {\n",
              "        text-align: right;\n",
              "    }\n",
              "</style>\n",
              "<table border=\"1\" class=\"dataframe\">\n",
              "  <thead>\n",
              "    <tr style=\"text-align: right;\">\n",
              "      <th></th>\n",
              "      <th>Agency</th>\n",
              "      <th>Product Name</th>\n",
              "      <th>Duration</th>\n",
              "      <th>Destination</th>\n",
              "      <th>Net Sales</th>\n",
              "      <th>Commision (in value)</th>\n",
              "      <th>Gender</th>\n",
              "      <th>Age</th>\n",
              "    </tr>\n",
              "  </thead>\n",
              "  <tbody>\n",
              "    <tr>\n",
              "      <th>0</th>\n",
              "      <td>CWT</td>\n",
              "      <td>Rental Vehicle Excess Insurance</td>\n",
              "      <td>7.0</td>\n",
              "      <td>MALAYSIA</td>\n",
              "      <td>0.0</td>\n",
              "      <td>0.00</td>\n",
              "      <td>notSpecified</td>\n",
              "      <td>31</td>\n",
              "    </tr>\n",
              "    <tr>\n",
              "      <th>1</th>\n",
              "      <td>EPX</td>\n",
              "      <td>Cancellation Plan</td>\n",
              "      <td>85.0</td>\n",
              "      <td>SINGAPORE</td>\n",
              "      <td>69.0</td>\n",
              "      <td>0.00</td>\n",
              "      <td>notSpecified</td>\n",
              "      <td>36</td>\n",
              "    </tr>\n",
              "    <tr>\n",
              "      <th>2</th>\n",
              "      <td>CWT</td>\n",
              "      <td>Rental Vehicle Excess Insurance</td>\n",
              "      <td>11.0</td>\n",
              "      <td>MALAYSIA</td>\n",
              "      <td>19.8</td>\n",
              "      <td>11.88</td>\n",
              "      <td>notSpecified</td>\n",
              "      <td>75</td>\n",
              "    </tr>\n",
              "    <tr>\n",
              "      <th>3</th>\n",
              "      <td>EPX</td>\n",
              "      <td>2 way Comprehensive Plan</td>\n",
              "      <td>16.0</td>\n",
              "      <td>INDONESIA</td>\n",
              "      <td>20.0</td>\n",
              "      <td>0.00</td>\n",
              "      <td>notSpecified</td>\n",
              "      <td>32</td>\n",
              "    </tr>\n",
              "    <tr>\n",
              "      <th>4</th>\n",
              "      <td>EPX</td>\n",
              "      <td>Cancellation Plan</td>\n",
              "      <td>10.0</td>\n",
              "      <td>KOREA, REPUBLIC OF</td>\n",
              "      <td>15.0</td>\n",
              "      <td>0.00</td>\n",
              "      <td>notSpecified</td>\n",
              "      <td>29</td>\n",
              "    </tr>\n",
              "    <tr>\n",
              "      <th>...</th>\n",
              "      <td>...</td>\n",
              "      <td>...</td>\n",
              "      <td>...</td>\n",
              "      <td>...</td>\n",
              "      <td>...</td>\n",
              "      <td>...</td>\n",
              "      <td>...</td>\n",
              "      <td>...</td>\n",
              "    </tr>\n",
              "    <tr>\n",
              "      <th>50548</th>\n",
              "      <td>CWT</td>\n",
              "      <td>Rental Vehicle Excess Insurance</td>\n",
              "      <td>11.0</td>\n",
              "      <td>NETHERLANDS</td>\n",
              "      <td>99.0</td>\n",
              "      <td>59.40</td>\n",
              "      <td>notSpecified</td>\n",
              "      <td>50</td>\n",
              "    </tr>\n",
              "    <tr>\n",
              "      <th>50549</th>\n",
              "      <td>EPX</td>\n",
              "      <td>1 way Comprehensive Plan</td>\n",
              "      <td>48.0</td>\n",
              "      <td>INDONESIA</td>\n",
              "      <td>20.0</td>\n",
              "      <td>0.00</td>\n",
              "      <td>notSpecified</td>\n",
              "      <td>36</td>\n",
              "    </tr>\n",
              "    <tr>\n",
              "      <th>50550</th>\n",
              "      <td>KML</td>\n",
              "      <td>Value Plan</td>\n",
              "      <td>24.0</td>\n",
              "      <td>INDONESIA</td>\n",
              "      <td>28.0</td>\n",
              "      <td>10.64</td>\n",
              "      <td>F</td>\n",
              "      <td>48</td>\n",
              "    </tr>\n",
              "    <tr>\n",
              "      <th>50551</th>\n",
              "      <td>EPX</td>\n",
              "      <td>Cancellation Plan</td>\n",
              "      <td>25.0</td>\n",
              "      <td>BELGIUM</td>\n",
              "      <td>15.0</td>\n",
              "      <td>0.00</td>\n",
              "      <td>notSpecified</td>\n",
              "      <td>36</td>\n",
              "    </tr>\n",
              "    <tr>\n",
              "      <th>50552</th>\n",
              "      <td>EPX</td>\n",
              "      <td>1 way Comprehensive Plan</td>\n",
              "      <td>9.0</td>\n",
              "      <td>SINGAPORE</td>\n",
              "      <td>20.0</td>\n",
              "      <td>0.00</td>\n",
              "      <td>notSpecified</td>\n",
              "      <td>59</td>\n",
              "    </tr>\n",
              "  </tbody>\n",
              "</table>\n",
              "<p>50553 rows × 8 columns</p>\n",
              "</div>"
            ],
            "text/plain": [
              "      Agency                     Product Name  ...        Gender Age\n",
              "0        CWT  Rental Vehicle Excess Insurance  ...  notSpecified  31\n",
              "1        EPX                Cancellation Plan  ...  notSpecified  36\n",
              "2        CWT  Rental Vehicle Excess Insurance  ...  notSpecified  75\n",
              "3        EPX         2 way Comprehensive Plan  ...  notSpecified  32\n",
              "4        EPX                Cancellation Plan  ...  notSpecified  29\n",
              "...      ...                              ...  ...           ...  ..\n",
              "50548    CWT  Rental Vehicle Excess Insurance  ...  notSpecified  50\n",
              "50549    EPX         1 way Comprehensive Plan  ...  notSpecified  36\n",
              "50550    KML                       Value Plan  ...             F  48\n",
              "50551    EPX                Cancellation Plan  ...  notSpecified  36\n",
              "50552    EPX         1 way Comprehensive Plan  ...  notSpecified  59\n",
              "\n",
              "[50553 rows x 8 columns]"
            ]
          },
          "metadata": {
            "tags": []
          },
          "execution_count": 45
        }
      ]
    },
    {
      "cell_type": "code",
      "metadata": {
        "id": "0PQkp-SS134l"
      },
      "source": [
        "x_dummy=pd.get_dummies(X,columns=['Agency','Gender','Product Name','Destination'],drop_first=True)"
      ],
      "execution_count": 46,
      "outputs": []
    },
    {
      "cell_type": "code",
      "metadata": {
        "colab": {
          "base_uri": "https://localhost:8080/",
          "height": 489
        },
        "id": "UzJGXsad28Fz",
        "outputId": "c930b7ff-dab7-4a4e-81f1-3a7f6911e197"
      },
      "source": [
        "x_dummy"
      ],
      "execution_count": 47,
      "outputs": [
        {
          "output_type": "execute_result",
          "data": {
            "text/html": [
              "<div>\n",
              "<style scoped>\n",
              "    .dataframe tbody tr th:only-of-type {\n",
              "        vertical-align: middle;\n",
              "    }\n",
              "\n",
              "    .dataframe tbody tr th {\n",
              "        vertical-align: top;\n",
              "    }\n",
              "\n",
              "    .dataframe thead th {\n",
              "        text-align: right;\n",
              "    }\n",
              "</style>\n",
              "<table border=\"1\" class=\"dataframe\">\n",
              "  <thead>\n",
              "    <tr style=\"text-align: right;\">\n",
              "      <th></th>\n",
              "      <th>Duration</th>\n",
              "      <th>Net Sales</th>\n",
              "      <th>Commision (in value)</th>\n",
              "      <th>Age</th>\n",
              "      <th>Agency_ART</th>\n",
              "      <th>Agency_C2B</th>\n",
              "      <th>Agency_CBH</th>\n",
              "      <th>Agency_CCR</th>\n",
              "      <th>Agency_CSR</th>\n",
              "      <th>Agency_CWT</th>\n",
              "      <th>Agency_EPX</th>\n",
              "      <th>Agency_JWT</th>\n",
              "      <th>Agency_JZI</th>\n",
              "      <th>Agency_KML</th>\n",
              "      <th>Agency_LWC</th>\n",
              "      <th>Agency_RAB</th>\n",
              "      <th>Agency_SSI</th>\n",
              "      <th>Agency_TST</th>\n",
              "      <th>Agency_TTW</th>\n",
              "      <th>Gender_M</th>\n",
              "      <th>Gender_notSpecified</th>\n",
              "      <th>Product Name_2 way Comprehensive Plan</th>\n",
              "      <th>Product Name_24 Protect</th>\n",
              "      <th>Product Name_Annual Gold Plan</th>\n",
              "      <th>Product Name_Annual Silver Plan</th>\n",
              "      <th>Product Name_Annual Travel Protect Gold</th>\n",
              "      <th>Product Name_Annual Travel Protect Platinum</th>\n",
              "      <th>Product Name_Annual Travel Protect Silver</th>\n",
              "      <th>Product Name_Basic Plan</th>\n",
              "      <th>Product Name_Bronze Plan</th>\n",
              "      <th>Product Name_Cancellation Plan</th>\n",
              "      <th>Product Name_Child Comprehensive Plan</th>\n",
              "      <th>Product Name_Comprehensive Plan</th>\n",
              "      <th>Product Name_Gold Plan</th>\n",
              "      <th>Product Name_Individual Comprehensive Plan</th>\n",
              "      <th>Product Name_Premier Plan</th>\n",
              "      <th>Product Name_Rental Vehicle Excess Insurance</th>\n",
              "      <th>Product Name_Silver Plan</th>\n",
              "      <th>Product Name_Single Trip Travel Protect Gold</th>\n",
              "      <th>Product Name_Single Trip Travel Protect Platinum</th>\n",
              "      <th>...</th>\n",
              "      <th>Destination_MOROCCO</th>\n",
              "      <th>Destination_MYANMAR</th>\n",
              "      <th>Destination_NEPAL</th>\n",
              "      <th>Destination_NETHERLANDS</th>\n",
              "      <th>Destination_NEW ZEALAND</th>\n",
              "      <th>Destination_NORTHERN MARIANA ISLANDS</th>\n",
              "      <th>Destination_NORWAY</th>\n",
              "      <th>Destination_OMAN</th>\n",
              "      <th>Destination_PAKISTAN</th>\n",
              "      <th>Destination_PERU</th>\n",
              "      <th>Destination_PHILIPPINES</th>\n",
              "      <th>Destination_POLAND</th>\n",
              "      <th>Destination_PORTUGAL</th>\n",
              "      <th>Destination_QATAR</th>\n",
              "      <th>Destination_ROMANIA</th>\n",
              "      <th>Destination_RUSSIAN FEDERATION</th>\n",
              "      <th>Destination_SAUDI ARABIA</th>\n",
              "      <th>Destination_SINGAPORE</th>\n",
              "      <th>Destination_SLOVENIA</th>\n",
              "      <th>Destination_SOUTH AFRICA</th>\n",
              "      <th>Destination_SPAIN</th>\n",
              "      <th>Destination_SRI LANKA</th>\n",
              "      <th>Destination_SWEDEN</th>\n",
              "      <th>Destination_SWITZERLAND</th>\n",
              "      <th>Destination_TAIWAN, PROVINCE OF CHINA</th>\n",
              "      <th>Destination_TANZANIA, UNITED REPUBLIC OF</th>\n",
              "      <th>Destination_THAILAND</th>\n",
              "      <th>Destination_TUNISIA</th>\n",
              "      <th>Destination_TURKEY</th>\n",
              "      <th>Destination_TURKMENISTAN</th>\n",
              "      <th>Destination_UGANDA</th>\n",
              "      <th>Destination_UKRAINE</th>\n",
              "      <th>Destination_UNITED ARAB EMIRATES</th>\n",
              "      <th>Destination_UNITED KINGDOM</th>\n",
              "      <th>Destination_UNITED STATES</th>\n",
              "      <th>Destination_UZBEKISTAN</th>\n",
              "      <th>Destination_VANUATU</th>\n",
              "      <th>Destination_VENEZUELA</th>\n",
              "      <th>Destination_VIET NAM</th>\n",
              "      <th>Destination_ZAMBIA</th>\n",
              "    </tr>\n",
              "  </thead>\n",
              "  <tbody>\n",
              "    <tr>\n",
              "      <th>0</th>\n",
              "      <td>7.0</td>\n",
              "      <td>0.0</td>\n",
              "      <td>0.00</td>\n",
              "      <td>31</td>\n",
              "      <td>0</td>\n",
              "      <td>0</td>\n",
              "      <td>0</td>\n",
              "      <td>0</td>\n",
              "      <td>0</td>\n",
              "      <td>1</td>\n",
              "      <td>0</td>\n",
              "      <td>0</td>\n",
              "      <td>0</td>\n",
              "      <td>0</td>\n",
              "      <td>0</td>\n",
              "      <td>0</td>\n",
              "      <td>0</td>\n",
              "      <td>0</td>\n",
              "      <td>0</td>\n",
              "      <td>0</td>\n",
              "      <td>1</td>\n",
              "      <td>0</td>\n",
              "      <td>0</td>\n",
              "      <td>0</td>\n",
              "      <td>0</td>\n",
              "      <td>0</td>\n",
              "      <td>0</td>\n",
              "      <td>0</td>\n",
              "      <td>0</td>\n",
              "      <td>0</td>\n",
              "      <td>0</td>\n",
              "      <td>0</td>\n",
              "      <td>0</td>\n",
              "      <td>0</td>\n",
              "      <td>0</td>\n",
              "      <td>0</td>\n",
              "      <td>1</td>\n",
              "      <td>0</td>\n",
              "      <td>0</td>\n",
              "      <td>0</td>\n",
              "      <td>...</td>\n",
              "      <td>0</td>\n",
              "      <td>0</td>\n",
              "      <td>0</td>\n",
              "      <td>0</td>\n",
              "      <td>0</td>\n",
              "      <td>0</td>\n",
              "      <td>0</td>\n",
              "      <td>0</td>\n",
              "      <td>0</td>\n",
              "      <td>0</td>\n",
              "      <td>0</td>\n",
              "      <td>0</td>\n",
              "      <td>0</td>\n",
              "      <td>0</td>\n",
              "      <td>0</td>\n",
              "      <td>0</td>\n",
              "      <td>0</td>\n",
              "      <td>0</td>\n",
              "      <td>0</td>\n",
              "      <td>0</td>\n",
              "      <td>0</td>\n",
              "      <td>0</td>\n",
              "      <td>0</td>\n",
              "      <td>0</td>\n",
              "      <td>0</td>\n",
              "      <td>0</td>\n",
              "      <td>0</td>\n",
              "      <td>0</td>\n",
              "      <td>0</td>\n",
              "      <td>0</td>\n",
              "      <td>0</td>\n",
              "      <td>0</td>\n",
              "      <td>0</td>\n",
              "      <td>0</td>\n",
              "      <td>0</td>\n",
              "      <td>0</td>\n",
              "      <td>0</td>\n",
              "      <td>0</td>\n",
              "      <td>0</td>\n",
              "      <td>0</td>\n",
              "    </tr>\n",
              "    <tr>\n",
              "      <th>1</th>\n",
              "      <td>85.0</td>\n",
              "      <td>69.0</td>\n",
              "      <td>0.00</td>\n",
              "      <td>36</td>\n",
              "      <td>0</td>\n",
              "      <td>0</td>\n",
              "      <td>0</td>\n",
              "      <td>0</td>\n",
              "      <td>0</td>\n",
              "      <td>0</td>\n",
              "      <td>1</td>\n",
              "      <td>0</td>\n",
              "      <td>0</td>\n",
              "      <td>0</td>\n",
              "      <td>0</td>\n",
              "      <td>0</td>\n",
              "      <td>0</td>\n",
              "      <td>0</td>\n",
              "      <td>0</td>\n",
              "      <td>0</td>\n",
              "      <td>1</td>\n",
              "      <td>0</td>\n",
              "      <td>0</td>\n",
              "      <td>0</td>\n",
              "      <td>0</td>\n",
              "      <td>0</td>\n",
              "      <td>0</td>\n",
              "      <td>0</td>\n",
              "      <td>0</td>\n",
              "      <td>0</td>\n",
              "      <td>1</td>\n",
              "      <td>0</td>\n",
              "      <td>0</td>\n",
              "      <td>0</td>\n",
              "      <td>0</td>\n",
              "      <td>0</td>\n",
              "      <td>0</td>\n",
              "      <td>0</td>\n",
              "      <td>0</td>\n",
              "      <td>0</td>\n",
              "      <td>...</td>\n",
              "      <td>0</td>\n",
              "      <td>0</td>\n",
              "      <td>0</td>\n",
              "      <td>0</td>\n",
              "      <td>0</td>\n",
              "      <td>0</td>\n",
              "      <td>0</td>\n",
              "      <td>0</td>\n",
              "      <td>0</td>\n",
              "      <td>0</td>\n",
              "      <td>0</td>\n",
              "      <td>0</td>\n",
              "      <td>0</td>\n",
              "      <td>0</td>\n",
              "      <td>0</td>\n",
              "      <td>0</td>\n",
              "      <td>0</td>\n",
              "      <td>1</td>\n",
              "      <td>0</td>\n",
              "      <td>0</td>\n",
              "      <td>0</td>\n",
              "      <td>0</td>\n",
              "      <td>0</td>\n",
              "      <td>0</td>\n",
              "      <td>0</td>\n",
              "      <td>0</td>\n",
              "      <td>0</td>\n",
              "      <td>0</td>\n",
              "      <td>0</td>\n",
              "      <td>0</td>\n",
              "      <td>0</td>\n",
              "      <td>0</td>\n",
              "      <td>0</td>\n",
              "      <td>0</td>\n",
              "      <td>0</td>\n",
              "      <td>0</td>\n",
              "      <td>0</td>\n",
              "      <td>0</td>\n",
              "      <td>0</td>\n",
              "      <td>0</td>\n",
              "    </tr>\n",
              "    <tr>\n",
              "      <th>2</th>\n",
              "      <td>11.0</td>\n",
              "      <td>19.8</td>\n",
              "      <td>11.88</td>\n",
              "      <td>75</td>\n",
              "      <td>0</td>\n",
              "      <td>0</td>\n",
              "      <td>0</td>\n",
              "      <td>0</td>\n",
              "      <td>0</td>\n",
              "      <td>1</td>\n",
              "      <td>0</td>\n",
              "      <td>0</td>\n",
              "      <td>0</td>\n",
              "      <td>0</td>\n",
              "      <td>0</td>\n",
              "      <td>0</td>\n",
              "      <td>0</td>\n",
              "      <td>0</td>\n",
              "      <td>0</td>\n",
              "      <td>0</td>\n",
              "      <td>1</td>\n",
              "      <td>0</td>\n",
              "      <td>0</td>\n",
              "      <td>0</td>\n",
              "      <td>0</td>\n",
              "      <td>0</td>\n",
              "      <td>0</td>\n",
              "      <td>0</td>\n",
              "      <td>0</td>\n",
              "      <td>0</td>\n",
              "      <td>0</td>\n",
              "      <td>0</td>\n",
              "      <td>0</td>\n",
              "      <td>0</td>\n",
              "      <td>0</td>\n",
              "      <td>0</td>\n",
              "      <td>1</td>\n",
              "      <td>0</td>\n",
              "      <td>0</td>\n",
              "      <td>0</td>\n",
              "      <td>...</td>\n",
              "      <td>0</td>\n",
              "      <td>0</td>\n",
              "      <td>0</td>\n",
              "      <td>0</td>\n",
              "      <td>0</td>\n",
              "      <td>0</td>\n",
              "      <td>0</td>\n",
              "      <td>0</td>\n",
              "      <td>0</td>\n",
              "      <td>0</td>\n",
              "      <td>0</td>\n",
              "      <td>0</td>\n",
              "      <td>0</td>\n",
              "      <td>0</td>\n",
              "      <td>0</td>\n",
              "      <td>0</td>\n",
              "      <td>0</td>\n",
              "      <td>0</td>\n",
              "      <td>0</td>\n",
              "      <td>0</td>\n",
              "      <td>0</td>\n",
              "      <td>0</td>\n",
              "      <td>0</td>\n",
              "      <td>0</td>\n",
              "      <td>0</td>\n",
              "      <td>0</td>\n",
              "      <td>0</td>\n",
              "      <td>0</td>\n",
              "      <td>0</td>\n",
              "      <td>0</td>\n",
              "      <td>0</td>\n",
              "      <td>0</td>\n",
              "      <td>0</td>\n",
              "      <td>0</td>\n",
              "      <td>0</td>\n",
              "      <td>0</td>\n",
              "      <td>0</td>\n",
              "      <td>0</td>\n",
              "      <td>0</td>\n",
              "      <td>0</td>\n",
              "    </tr>\n",
              "    <tr>\n",
              "      <th>3</th>\n",
              "      <td>16.0</td>\n",
              "      <td>20.0</td>\n",
              "      <td>0.00</td>\n",
              "      <td>32</td>\n",
              "      <td>0</td>\n",
              "      <td>0</td>\n",
              "      <td>0</td>\n",
              "      <td>0</td>\n",
              "      <td>0</td>\n",
              "      <td>0</td>\n",
              "      <td>1</td>\n",
              "      <td>0</td>\n",
              "      <td>0</td>\n",
              "      <td>0</td>\n",
              "      <td>0</td>\n",
              "      <td>0</td>\n",
              "      <td>0</td>\n",
              "      <td>0</td>\n",
              "      <td>0</td>\n",
              "      <td>0</td>\n",
              "      <td>1</td>\n",
              "      <td>1</td>\n",
              "      <td>0</td>\n",
              "      <td>0</td>\n",
              "      <td>0</td>\n",
              "      <td>0</td>\n",
              "      <td>0</td>\n",
              "      <td>0</td>\n",
              "      <td>0</td>\n",
              "      <td>0</td>\n",
              "      <td>0</td>\n",
              "      <td>0</td>\n",
              "      <td>0</td>\n",
              "      <td>0</td>\n",
              "      <td>0</td>\n",
              "      <td>0</td>\n",
              "      <td>0</td>\n",
              "      <td>0</td>\n",
              "      <td>0</td>\n",
              "      <td>0</td>\n",
              "      <td>...</td>\n",
              "      <td>0</td>\n",
              "      <td>0</td>\n",
              "      <td>0</td>\n",
              "      <td>0</td>\n",
              "      <td>0</td>\n",
              "      <td>0</td>\n",
              "      <td>0</td>\n",
              "      <td>0</td>\n",
              "      <td>0</td>\n",
              "      <td>0</td>\n",
              "      <td>0</td>\n",
              "      <td>0</td>\n",
              "      <td>0</td>\n",
              "      <td>0</td>\n",
              "      <td>0</td>\n",
              "      <td>0</td>\n",
              "      <td>0</td>\n",
              "      <td>0</td>\n",
              "      <td>0</td>\n",
              "      <td>0</td>\n",
              "      <td>0</td>\n",
              "      <td>0</td>\n",
              "      <td>0</td>\n",
              "      <td>0</td>\n",
              "      <td>0</td>\n",
              "      <td>0</td>\n",
              "      <td>0</td>\n",
              "      <td>0</td>\n",
              "      <td>0</td>\n",
              "      <td>0</td>\n",
              "      <td>0</td>\n",
              "      <td>0</td>\n",
              "      <td>0</td>\n",
              "      <td>0</td>\n",
              "      <td>0</td>\n",
              "      <td>0</td>\n",
              "      <td>0</td>\n",
              "      <td>0</td>\n",
              "      <td>0</td>\n",
              "      <td>0</td>\n",
              "    </tr>\n",
              "    <tr>\n",
              "      <th>4</th>\n",
              "      <td>10.0</td>\n",
              "      <td>15.0</td>\n",
              "      <td>0.00</td>\n",
              "      <td>29</td>\n",
              "      <td>0</td>\n",
              "      <td>0</td>\n",
              "      <td>0</td>\n",
              "      <td>0</td>\n",
              "      <td>0</td>\n",
              "      <td>0</td>\n",
              "      <td>1</td>\n",
              "      <td>0</td>\n",
              "      <td>0</td>\n",
              "      <td>0</td>\n",
              "      <td>0</td>\n",
              "      <td>0</td>\n",
              "      <td>0</td>\n",
              "      <td>0</td>\n",
              "      <td>0</td>\n",
              "      <td>0</td>\n",
              "      <td>1</td>\n",
              "      <td>0</td>\n",
              "      <td>0</td>\n",
              "      <td>0</td>\n",
              "      <td>0</td>\n",
              "      <td>0</td>\n",
              "      <td>0</td>\n",
              "      <td>0</td>\n",
              "      <td>0</td>\n",
              "      <td>0</td>\n",
              "      <td>1</td>\n",
              "      <td>0</td>\n",
              "      <td>0</td>\n",
              "      <td>0</td>\n",
              "      <td>0</td>\n",
              "      <td>0</td>\n",
              "      <td>0</td>\n",
              "      <td>0</td>\n",
              "      <td>0</td>\n",
              "      <td>0</td>\n",
              "      <td>...</td>\n",
              "      <td>0</td>\n",
              "      <td>0</td>\n",
              "      <td>0</td>\n",
              "      <td>0</td>\n",
              "      <td>0</td>\n",
              "      <td>0</td>\n",
              "      <td>0</td>\n",
              "      <td>0</td>\n",
              "      <td>0</td>\n",
              "      <td>0</td>\n",
              "      <td>0</td>\n",
              "      <td>0</td>\n",
              "      <td>0</td>\n",
              "      <td>0</td>\n",
              "      <td>0</td>\n",
              "      <td>0</td>\n",
              "      <td>0</td>\n",
              "      <td>0</td>\n",
              "      <td>0</td>\n",
              "      <td>0</td>\n",
              "      <td>0</td>\n",
              "      <td>0</td>\n",
              "      <td>0</td>\n",
              "      <td>0</td>\n",
              "      <td>0</td>\n",
              "      <td>0</td>\n",
              "      <td>0</td>\n",
              "      <td>0</td>\n",
              "      <td>0</td>\n",
              "      <td>0</td>\n",
              "      <td>0</td>\n",
              "      <td>0</td>\n",
              "      <td>0</td>\n",
              "      <td>0</td>\n",
              "      <td>0</td>\n",
              "      <td>0</td>\n",
              "      <td>0</td>\n",
              "      <td>0</td>\n",
              "      <td>0</td>\n",
              "      <td>0</td>\n",
              "    </tr>\n",
              "    <tr>\n",
              "      <th>...</th>\n",
              "      <td>...</td>\n",
              "      <td>...</td>\n",
              "      <td>...</td>\n",
              "      <td>...</td>\n",
              "      <td>...</td>\n",
              "      <td>...</td>\n",
              "      <td>...</td>\n",
              "      <td>...</td>\n",
              "      <td>...</td>\n",
              "      <td>...</td>\n",
              "      <td>...</td>\n",
              "      <td>...</td>\n",
              "      <td>...</td>\n",
              "      <td>...</td>\n",
              "      <td>...</td>\n",
              "      <td>...</td>\n",
              "      <td>...</td>\n",
              "      <td>...</td>\n",
              "      <td>...</td>\n",
              "      <td>...</td>\n",
              "      <td>...</td>\n",
              "      <td>...</td>\n",
              "      <td>...</td>\n",
              "      <td>...</td>\n",
              "      <td>...</td>\n",
              "      <td>...</td>\n",
              "      <td>...</td>\n",
              "      <td>...</td>\n",
              "      <td>...</td>\n",
              "      <td>...</td>\n",
              "      <td>...</td>\n",
              "      <td>...</td>\n",
              "      <td>...</td>\n",
              "      <td>...</td>\n",
              "      <td>...</td>\n",
              "      <td>...</td>\n",
              "      <td>...</td>\n",
              "      <td>...</td>\n",
              "      <td>...</td>\n",
              "      <td>...</td>\n",
              "      <td>...</td>\n",
              "      <td>...</td>\n",
              "      <td>...</td>\n",
              "      <td>...</td>\n",
              "      <td>...</td>\n",
              "      <td>...</td>\n",
              "      <td>...</td>\n",
              "      <td>...</td>\n",
              "      <td>...</td>\n",
              "      <td>...</td>\n",
              "      <td>...</td>\n",
              "      <td>...</td>\n",
              "      <td>...</td>\n",
              "      <td>...</td>\n",
              "      <td>...</td>\n",
              "      <td>...</td>\n",
              "      <td>...</td>\n",
              "      <td>...</td>\n",
              "      <td>...</td>\n",
              "      <td>...</td>\n",
              "      <td>...</td>\n",
              "      <td>...</td>\n",
              "      <td>...</td>\n",
              "      <td>...</td>\n",
              "      <td>...</td>\n",
              "      <td>...</td>\n",
              "      <td>...</td>\n",
              "      <td>...</td>\n",
              "      <td>...</td>\n",
              "      <td>...</td>\n",
              "      <td>...</td>\n",
              "      <td>...</td>\n",
              "      <td>...</td>\n",
              "      <td>...</td>\n",
              "      <td>...</td>\n",
              "      <td>...</td>\n",
              "      <td>...</td>\n",
              "      <td>...</td>\n",
              "      <td>...</td>\n",
              "      <td>...</td>\n",
              "      <td>...</td>\n",
              "    </tr>\n",
              "    <tr>\n",
              "      <th>50548</th>\n",
              "      <td>11.0</td>\n",
              "      <td>99.0</td>\n",
              "      <td>59.40</td>\n",
              "      <td>50</td>\n",
              "      <td>0</td>\n",
              "      <td>0</td>\n",
              "      <td>0</td>\n",
              "      <td>0</td>\n",
              "      <td>0</td>\n",
              "      <td>1</td>\n",
              "      <td>0</td>\n",
              "      <td>0</td>\n",
              "      <td>0</td>\n",
              "      <td>0</td>\n",
              "      <td>0</td>\n",
              "      <td>0</td>\n",
              "      <td>0</td>\n",
              "      <td>0</td>\n",
              "      <td>0</td>\n",
              "      <td>0</td>\n",
              "      <td>1</td>\n",
              "      <td>0</td>\n",
              "      <td>0</td>\n",
              "      <td>0</td>\n",
              "      <td>0</td>\n",
              "      <td>0</td>\n",
              "      <td>0</td>\n",
              "      <td>0</td>\n",
              "      <td>0</td>\n",
              "      <td>0</td>\n",
              "      <td>0</td>\n",
              "      <td>0</td>\n",
              "      <td>0</td>\n",
              "      <td>0</td>\n",
              "      <td>0</td>\n",
              "      <td>0</td>\n",
              "      <td>1</td>\n",
              "      <td>0</td>\n",
              "      <td>0</td>\n",
              "      <td>0</td>\n",
              "      <td>...</td>\n",
              "      <td>0</td>\n",
              "      <td>0</td>\n",
              "      <td>0</td>\n",
              "      <td>1</td>\n",
              "      <td>0</td>\n",
              "      <td>0</td>\n",
              "      <td>0</td>\n",
              "      <td>0</td>\n",
              "      <td>0</td>\n",
              "      <td>0</td>\n",
              "      <td>0</td>\n",
              "      <td>0</td>\n",
              "      <td>0</td>\n",
              "      <td>0</td>\n",
              "      <td>0</td>\n",
              "      <td>0</td>\n",
              "      <td>0</td>\n",
              "      <td>0</td>\n",
              "      <td>0</td>\n",
              "      <td>0</td>\n",
              "      <td>0</td>\n",
              "      <td>0</td>\n",
              "      <td>0</td>\n",
              "      <td>0</td>\n",
              "      <td>0</td>\n",
              "      <td>0</td>\n",
              "      <td>0</td>\n",
              "      <td>0</td>\n",
              "      <td>0</td>\n",
              "      <td>0</td>\n",
              "      <td>0</td>\n",
              "      <td>0</td>\n",
              "      <td>0</td>\n",
              "      <td>0</td>\n",
              "      <td>0</td>\n",
              "      <td>0</td>\n",
              "      <td>0</td>\n",
              "      <td>0</td>\n",
              "      <td>0</td>\n",
              "      <td>0</td>\n",
              "    </tr>\n",
              "    <tr>\n",
              "      <th>50549</th>\n",
              "      <td>48.0</td>\n",
              "      <td>20.0</td>\n",
              "      <td>0.00</td>\n",
              "      <td>36</td>\n",
              "      <td>0</td>\n",
              "      <td>0</td>\n",
              "      <td>0</td>\n",
              "      <td>0</td>\n",
              "      <td>0</td>\n",
              "      <td>0</td>\n",
              "      <td>1</td>\n",
              "      <td>0</td>\n",
              "      <td>0</td>\n",
              "      <td>0</td>\n",
              "      <td>0</td>\n",
              "      <td>0</td>\n",
              "      <td>0</td>\n",
              "      <td>0</td>\n",
              "      <td>0</td>\n",
              "      <td>0</td>\n",
              "      <td>1</td>\n",
              "      <td>0</td>\n",
              "      <td>0</td>\n",
              "      <td>0</td>\n",
              "      <td>0</td>\n",
              "      <td>0</td>\n",
              "      <td>0</td>\n",
              "      <td>0</td>\n",
              "      <td>0</td>\n",
              "      <td>0</td>\n",
              "      <td>0</td>\n",
              "      <td>0</td>\n",
              "      <td>0</td>\n",
              "      <td>0</td>\n",
              "      <td>0</td>\n",
              "      <td>0</td>\n",
              "      <td>0</td>\n",
              "      <td>0</td>\n",
              "      <td>0</td>\n",
              "      <td>0</td>\n",
              "      <td>...</td>\n",
              "      <td>0</td>\n",
              "      <td>0</td>\n",
              "      <td>0</td>\n",
              "      <td>0</td>\n",
              "      <td>0</td>\n",
              "      <td>0</td>\n",
              "      <td>0</td>\n",
              "      <td>0</td>\n",
              "      <td>0</td>\n",
              "      <td>0</td>\n",
              "      <td>0</td>\n",
              "      <td>0</td>\n",
              "      <td>0</td>\n",
              "      <td>0</td>\n",
              "      <td>0</td>\n",
              "      <td>0</td>\n",
              "      <td>0</td>\n",
              "      <td>0</td>\n",
              "      <td>0</td>\n",
              "      <td>0</td>\n",
              "      <td>0</td>\n",
              "      <td>0</td>\n",
              "      <td>0</td>\n",
              "      <td>0</td>\n",
              "      <td>0</td>\n",
              "      <td>0</td>\n",
              "      <td>0</td>\n",
              "      <td>0</td>\n",
              "      <td>0</td>\n",
              "      <td>0</td>\n",
              "      <td>0</td>\n",
              "      <td>0</td>\n",
              "      <td>0</td>\n",
              "      <td>0</td>\n",
              "      <td>0</td>\n",
              "      <td>0</td>\n",
              "      <td>0</td>\n",
              "      <td>0</td>\n",
              "      <td>0</td>\n",
              "      <td>0</td>\n",
              "    </tr>\n",
              "    <tr>\n",
              "      <th>50550</th>\n",
              "      <td>24.0</td>\n",
              "      <td>28.0</td>\n",
              "      <td>10.64</td>\n",
              "      <td>48</td>\n",
              "      <td>0</td>\n",
              "      <td>0</td>\n",
              "      <td>0</td>\n",
              "      <td>0</td>\n",
              "      <td>0</td>\n",
              "      <td>0</td>\n",
              "      <td>0</td>\n",
              "      <td>0</td>\n",
              "      <td>0</td>\n",
              "      <td>1</td>\n",
              "      <td>0</td>\n",
              "      <td>0</td>\n",
              "      <td>0</td>\n",
              "      <td>0</td>\n",
              "      <td>0</td>\n",
              "      <td>0</td>\n",
              "      <td>0</td>\n",
              "      <td>0</td>\n",
              "      <td>0</td>\n",
              "      <td>0</td>\n",
              "      <td>0</td>\n",
              "      <td>0</td>\n",
              "      <td>0</td>\n",
              "      <td>0</td>\n",
              "      <td>0</td>\n",
              "      <td>0</td>\n",
              "      <td>0</td>\n",
              "      <td>0</td>\n",
              "      <td>0</td>\n",
              "      <td>0</td>\n",
              "      <td>0</td>\n",
              "      <td>0</td>\n",
              "      <td>0</td>\n",
              "      <td>0</td>\n",
              "      <td>0</td>\n",
              "      <td>0</td>\n",
              "      <td>...</td>\n",
              "      <td>0</td>\n",
              "      <td>0</td>\n",
              "      <td>0</td>\n",
              "      <td>0</td>\n",
              "      <td>0</td>\n",
              "      <td>0</td>\n",
              "      <td>0</td>\n",
              "      <td>0</td>\n",
              "      <td>0</td>\n",
              "      <td>0</td>\n",
              "      <td>0</td>\n",
              "      <td>0</td>\n",
              "      <td>0</td>\n",
              "      <td>0</td>\n",
              "      <td>0</td>\n",
              "      <td>0</td>\n",
              "      <td>0</td>\n",
              "      <td>0</td>\n",
              "      <td>0</td>\n",
              "      <td>0</td>\n",
              "      <td>0</td>\n",
              "      <td>0</td>\n",
              "      <td>0</td>\n",
              "      <td>0</td>\n",
              "      <td>0</td>\n",
              "      <td>0</td>\n",
              "      <td>0</td>\n",
              "      <td>0</td>\n",
              "      <td>0</td>\n",
              "      <td>0</td>\n",
              "      <td>0</td>\n",
              "      <td>0</td>\n",
              "      <td>0</td>\n",
              "      <td>0</td>\n",
              "      <td>0</td>\n",
              "      <td>0</td>\n",
              "      <td>0</td>\n",
              "      <td>0</td>\n",
              "      <td>0</td>\n",
              "      <td>0</td>\n",
              "    </tr>\n",
              "    <tr>\n",
              "      <th>50551</th>\n",
              "      <td>25.0</td>\n",
              "      <td>15.0</td>\n",
              "      <td>0.00</td>\n",
              "      <td>36</td>\n",
              "      <td>0</td>\n",
              "      <td>0</td>\n",
              "      <td>0</td>\n",
              "      <td>0</td>\n",
              "      <td>0</td>\n",
              "      <td>0</td>\n",
              "      <td>1</td>\n",
              "      <td>0</td>\n",
              "      <td>0</td>\n",
              "      <td>0</td>\n",
              "      <td>0</td>\n",
              "      <td>0</td>\n",
              "      <td>0</td>\n",
              "      <td>0</td>\n",
              "      <td>0</td>\n",
              "      <td>0</td>\n",
              "      <td>1</td>\n",
              "      <td>0</td>\n",
              "      <td>0</td>\n",
              "      <td>0</td>\n",
              "      <td>0</td>\n",
              "      <td>0</td>\n",
              "      <td>0</td>\n",
              "      <td>0</td>\n",
              "      <td>0</td>\n",
              "      <td>0</td>\n",
              "      <td>1</td>\n",
              "      <td>0</td>\n",
              "      <td>0</td>\n",
              "      <td>0</td>\n",
              "      <td>0</td>\n",
              "      <td>0</td>\n",
              "      <td>0</td>\n",
              "      <td>0</td>\n",
              "      <td>0</td>\n",
              "      <td>0</td>\n",
              "      <td>...</td>\n",
              "      <td>0</td>\n",
              "      <td>0</td>\n",
              "      <td>0</td>\n",
              "      <td>0</td>\n",
              "      <td>0</td>\n",
              "      <td>0</td>\n",
              "      <td>0</td>\n",
              "      <td>0</td>\n",
              "      <td>0</td>\n",
              "      <td>0</td>\n",
              "      <td>0</td>\n",
              "      <td>0</td>\n",
              "      <td>0</td>\n",
              "      <td>0</td>\n",
              "      <td>0</td>\n",
              "      <td>0</td>\n",
              "      <td>0</td>\n",
              "      <td>0</td>\n",
              "      <td>0</td>\n",
              "      <td>0</td>\n",
              "      <td>0</td>\n",
              "      <td>0</td>\n",
              "      <td>0</td>\n",
              "      <td>0</td>\n",
              "      <td>0</td>\n",
              "      <td>0</td>\n",
              "      <td>0</td>\n",
              "      <td>0</td>\n",
              "      <td>0</td>\n",
              "      <td>0</td>\n",
              "      <td>0</td>\n",
              "      <td>0</td>\n",
              "      <td>0</td>\n",
              "      <td>0</td>\n",
              "      <td>0</td>\n",
              "      <td>0</td>\n",
              "      <td>0</td>\n",
              "      <td>0</td>\n",
              "      <td>0</td>\n",
              "      <td>0</td>\n",
              "    </tr>\n",
              "    <tr>\n",
              "      <th>50552</th>\n",
              "      <td>9.0</td>\n",
              "      <td>20.0</td>\n",
              "      <td>0.00</td>\n",
              "      <td>59</td>\n",
              "      <td>0</td>\n",
              "      <td>0</td>\n",
              "      <td>0</td>\n",
              "      <td>0</td>\n",
              "      <td>0</td>\n",
              "      <td>0</td>\n",
              "      <td>1</td>\n",
              "      <td>0</td>\n",
              "      <td>0</td>\n",
              "      <td>0</td>\n",
              "      <td>0</td>\n",
              "      <td>0</td>\n",
              "      <td>0</td>\n",
              "      <td>0</td>\n",
              "      <td>0</td>\n",
              "      <td>0</td>\n",
              "      <td>1</td>\n",
              "      <td>0</td>\n",
              "      <td>0</td>\n",
              "      <td>0</td>\n",
              "      <td>0</td>\n",
              "      <td>0</td>\n",
              "      <td>0</td>\n",
              "      <td>0</td>\n",
              "      <td>0</td>\n",
              "      <td>0</td>\n",
              "      <td>0</td>\n",
              "      <td>0</td>\n",
              "      <td>0</td>\n",
              "      <td>0</td>\n",
              "      <td>0</td>\n",
              "      <td>0</td>\n",
              "      <td>0</td>\n",
              "      <td>0</td>\n",
              "      <td>0</td>\n",
              "      <td>0</td>\n",
              "      <td>...</td>\n",
              "      <td>0</td>\n",
              "      <td>0</td>\n",
              "      <td>0</td>\n",
              "      <td>0</td>\n",
              "      <td>0</td>\n",
              "      <td>0</td>\n",
              "      <td>0</td>\n",
              "      <td>0</td>\n",
              "      <td>0</td>\n",
              "      <td>0</td>\n",
              "      <td>0</td>\n",
              "      <td>0</td>\n",
              "      <td>0</td>\n",
              "      <td>0</td>\n",
              "      <td>0</td>\n",
              "      <td>0</td>\n",
              "      <td>0</td>\n",
              "      <td>1</td>\n",
              "      <td>0</td>\n",
              "      <td>0</td>\n",
              "      <td>0</td>\n",
              "      <td>0</td>\n",
              "      <td>0</td>\n",
              "      <td>0</td>\n",
              "      <td>0</td>\n",
              "      <td>0</td>\n",
              "      <td>0</td>\n",
              "      <td>0</td>\n",
              "      <td>0</td>\n",
              "      <td>0</td>\n",
              "      <td>0</td>\n",
              "      <td>0</td>\n",
              "      <td>0</td>\n",
              "      <td>0</td>\n",
              "      <td>0</td>\n",
              "      <td>0</td>\n",
              "      <td>0</td>\n",
              "      <td>0</td>\n",
              "      <td>0</td>\n",
              "      <td>0</td>\n",
              "    </tr>\n",
              "  </tbody>\n",
              "</table>\n",
              "<p>50553 rows × 146 columns</p>\n",
              "</div>"
            ],
            "text/plain": [
              "       Duration  Net Sales  ...  Destination_VIET NAM  Destination_ZAMBIA\n",
              "0           7.0        0.0  ...                     0                   0\n",
              "1          85.0       69.0  ...                     0                   0\n",
              "2          11.0       19.8  ...                     0                   0\n",
              "3          16.0       20.0  ...                     0                   0\n",
              "4          10.0       15.0  ...                     0                   0\n",
              "...         ...        ...  ...                   ...                 ...\n",
              "50548      11.0       99.0  ...                     0                   0\n",
              "50549      48.0       20.0  ...                     0                   0\n",
              "50550      24.0       28.0  ...                     0                   0\n",
              "50551      25.0       15.0  ...                     0                   0\n",
              "50552       9.0       20.0  ...                     0                   0\n",
              "\n",
              "[50553 rows x 146 columns]"
            ]
          },
          "metadata": {
            "tags": []
          },
          "execution_count": 47
        }
      ]
    },
    {
      "cell_type": "markdown",
      "metadata": {
        "id": "vpF0qyTKq_eC"
      },
      "source": [
        "# Spliting the data into training and testing"
      ]
    },
    {
      "cell_type": "code",
      "metadata": {
        "id": "Cbo8PJmC7VM3"
      },
      "source": [
        "X_train, X_test, y_train, y_yest = train_test_split(x_dummy, y, test_size=0.3, random_state=42)"
      ],
      "execution_count": 48,
      "outputs": []
    },
    {
      "cell_type": "code",
      "metadata": {
        "id": "6MkGA3-m3CCI"
      },
      "source": [
        "Model = tf.keras.Sequential([\n",
        "    \n",
        "    tf.keras.layers.Dense(3, activation=\"relu\", input_shape=(x_dummy.shape[1],)),\n",
        "    tf.keras.layers.Dense(2, activation=\"relu\"),\n",
        "    tf.keras.layers.Dense(1, activation=\"sigmoid\")\n",
        "    \n",
        "])"
      ],
      "execution_count": 49,
      "outputs": []
    },
    {
      "cell_type": "code",
      "metadata": {
        "colab": {
          "base_uri": "https://localhost:8080/"
        },
        "id": "hfm5dyqM66lS",
        "outputId": "286eac91-eae0-430d-d3ef-d9e003e80098"
      },
      "source": [
        "Model.summary()"
      ],
      "execution_count": 50,
      "outputs": [
        {
          "output_type": "stream",
          "text": [
            "Model: \"sequential\"\n",
            "_________________________________________________________________\n",
            "Layer (type)                 Output Shape              Param #   \n",
            "=================================================================\n",
            "dense (Dense)                (None, 3)                 441       \n",
            "_________________________________________________________________\n",
            "dense_1 (Dense)              (None, 2)                 8         \n",
            "_________________________________________________________________\n",
            "dense_2 (Dense)              (None, 1)                 3         \n",
            "=================================================================\n",
            "Total params: 452\n",
            "Trainable params: 452\n",
            "Non-trainable params: 0\n",
            "_________________________________________________________________\n"
          ],
          "name": "stdout"
        }
      ]
    },
    {
      "cell_type": "code",
      "metadata": {
        "id": "dDLEKz0j6_81"
      },
      "source": [
        "Model.compile(optimizer=\"sgd\", loss=\"binary_crossentropy\")"
      ],
      "execution_count": 51,
      "outputs": []
    },
    {
      "cell_type": "code",
      "metadata": {
        "colab": {
          "base_uri": "https://localhost:8080/"
        },
        "id": "GlnGXqrr7E6h",
        "outputId": "62e301d9-2101-4e9f-ea5f-d82d5f1a33b1"
      },
      "source": [
        "trained_model = Model.fit(X_train, y_train, epochs=100)"
      ],
      "execution_count": 52,
      "outputs": [
        {
          "output_type": "stream",
          "text": [
            "Epoch 1/100\n",
            "1106/1106 [==============================] - 1s 874us/step - loss: 0.0932\n",
            "Epoch 2/100\n",
            "1106/1106 [==============================] - 1s 881us/step - loss: 0.0793\n",
            "Epoch 3/100\n",
            "1106/1106 [==============================] - 1s 886us/step - loss: 0.0780\n",
            "Epoch 4/100\n",
            "1106/1106 [==============================] - 1s 895us/step - loss: 0.0772\n",
            "Epoch 5/100\n",
            "1106/1106 [==============================] - 1s 889us/step - loss: 0.0772\n",
            "Epoch 6/100\n",
            "1106/1106 [==============================] - 1s 889us/step - loss: 0.0760\n",
            "Epoch 7/100\n",
            "1106/1106 [==============================] - 1s 853us/step - loss: 0.0759\n",
            "Epoch 8/100\n",
            "1106/1106 [==============================] - 1s 839us/step - loss: 0.0758\n",
            "Epoch 9/100\n",
            "1106/1106 [==============================] - 1s 838us/step - loss: 0.0752\n",
            "Epoch 10/100\n",
            "1106/1106 [==============================] - 1s 844us/step - loss: 0.0748\n",
            "Epoch 11/100\n",
            "1106/1106 [==============================] - 1s 832us/step - loss: 0.0745\n",
            "Epoch 12/100\n",
            "1106/1106 [==============================] - 1s 842us/step - loss: 0.0741\n",
            "Epoch 13/100\n",
            "1106/1106 [==============================] - 1s 855us/step - loss: 0.0736\n",
            "Epoch 14/100\n",
            "1106/1106 [==============================] - 1s 826us/step - loss: 0.0735\n",
            "Epoch 15/100\n",
            "1106/1106 [==============================] - 1s 843us/step - loss: 0.0731\n",
            "Epoch 16/100\n",
            "1106/1106 [==============================] - 1s 836us/step - loss: 0.0730\n",
            "Epoch 17/100\n",
            "1106/1106 [==============================] - 1s 910us/step - loss: 0.0723\n",
            "Epoch 18/100\n",
            "1106/1106 [==============================] - 1s 823us/step - loss: 0.0724\n",
            "Epoch 19/100\n",
            "1106/1106 [==============================] - 1s 890us/step - loss: 0.0721\n",
            "Epoch 20/100\n",
            "1106/1106 [==============================] - 1s 886us/step - loss: 0.0718\n",
            "Epoch 21/100\n",
            "1106/1106 [==============================] - 1s 842us/step - loss: 0.0716\n",
            "Epoch 22/100\n",
            "1106/1106 [==============================] - 1s 849us/step - loss: 0.0715\n",
            "Epoch 23/100\n",
            "1106/1106 [==============================] - 1s 857us/step - loss: 0.0712\n",
            "Epoch 24/100\n",
            "1106/1106 [==============================] - 1s 851us/step - loss: 0.0710\n",
            "Epoch 25/100\n",
            "1106/1106 [==============================] - 1s 847us/step - loss: 0.0713\n",
            "Epoch 26/100\n",
            "1106/1106 [==============================] - 1s 814us/step - loss: 0.0712\n",
            "Epoch 27/100\n",
            "1106/1106 [==============================] - 1s 867us/step - loss: 0.0711\n",
            "Epoch 28/100\n",
            "1106/1106 [==============================] - 1s 880us/step - loss: 0.0710\n",
            "Epoch 29/100\n",
            "1106/1106 [==============================] - 1s 841us/step - loss: 0.0708\n",
            "Epoch 30/100\n",
            "1106/1106 [==============================] - 1s 825us/step - loss: 0.0708\n",
            "Epoch 31/100\n",
            "1106/1106 [==============================] - 1s 843us/step - loss: 0.0707\n",
            "Epoch 32/100\n",
            "1106/1106 [==============================] - 1s 845us/step - loss: 0.0707\n",
            "Epoch 33/100\n",
            "1106/1106 [==============================] - 1s 821us/step - loss: 0.0706\n",
            "Epoch 34/100\n",
            "1106/1106 [==============================] - 1s 817us/step - loss: 0.0703\n",
            "Epoch 35/100\n",
            "1106/1106 [==============================] - 1s 845us/step - loss: 0.0704\n",
            "Epoch 36/100\n",
            "1106/1106 [==============================] - 1s 868us/step - loss: 0.0703\n",
            "Epoch 37/100\n",
            "1106/1106 [==============================] - 1s 842us/step - loss: 0.0703\n",
            "Epoch 38/100\n",
            "1106/1106 [==============================] - 1s 835us/step - loss: 0.0700\n",
            "Epoch 39/100\n",
            "1106/1106 [==============================] - 1s 842us/step - loss: 0.0701\n",
            "Epoch 40/100\n",
            "1106/1106 [==============================] - 1s 848us/step - loss: 0.0701\n",
            "Epoch 41/100\n",
            "1106/1106 [==============================] - 1s 819us/step - loss: 0.0699\n",
            "Epoch 42/100\n",
            "1106/1106 [==============================] - 1s 827us/step - loss: 0.0701\n",
            "Epoch 43/100\n",
            "1106/1106 [==============================] - 1s 849us/step - loss: 0.0700\n",
            "Epoch 44/100\n",
            "1106/1106 [==============================] - 1s 856us/step - loss: 0.0696\n",
            "Epoch 45/100\n",
            "1106/1106 [==============================] - 1s 831us/step - loss: 0.0697\n",
            "Epoch 46/100\n",
            "1106/1106 [==============================] - 1s 848us/step - loss: 0.0697\n",
            "Epoch 47/100\n",
            "1106/1106 [==============================] - 1s 896us/step - loss: 0.0697\n",
            "Epoch 48/100\n",
            "1106/1106 [==============================] - 1s 807us/step - loss: 0.0696\n",
            "Epoch 49/100\n",
            "1106/1106 [==============================] - 1s 843us/step - loss: 0.0695\n",
            "Epoch 50/100\n",
            "1106/1106 [==============================] - 1s 860us/step - loss: 0.0694\n",
            "Epoch 51/100\n",
            "1106/1106 [==============================] - 1s 818us/step - loss: 0.0691\n",
            "Epoch 52/100\n",
            "1106/1106 [==============================] - 1s 842us/step - loss: 0.0691\n",
            "Epoch 53/100\n",
            "1106/1106 [==============================] - 1s 834us/step - loss: 0.0690\n",
            "Epoch 54/100\n",
            "1106/1106 [==============================] - 1s 839us/step - loss: 0.0687\n",
            "Epoch 55/100\n",
            "1106/1106 [==============================] - 1s 840us/step - loss: 0.0686\n",
            "Epoch 56/100\n",
            "1106/1106 [==============================] - 1s 842us/step - loss: 0.0690\n",
            "Epoch 57/100\n",
            "1106/1106 [==============================] - 1s 875us/step - loss: 0.0685\n",
            "Epoch 58/100\n",
            "1106/1106 [==============================] - 1s 861us/step - loss: 0.0684\n",
            "Epoch 59/100\n",
            "1106/1106 [==============================] - 1s 825us/step - loss: 0.0685\n",
            "Epoch 60/100\n",
            "1106/1106 [==============================] - 1s 849us/step - loss: 0.0684\n",
            "Epoch 61/100\n",
            "1106/1106 [==============================] - 1s 846us/step - loss: 0.0684\n",
            "Epoch 62/100\n",
            "1106/1106 [==============================] - 1s 845us/step - loss: 0.0686\n",
            "Epoch 63/100\n",
            "1106/1106 [==============================] - 1s 842us/step - loss: 0.0684\n",
            "Epoch 64/100\n",
            "1106/1106 [==============================] - 1s 840us/step - loss: 0.0682\n",
            "Epoch 65/100\n",
            "1106/1106 [==============================] - 1s 830us/step - loss: 0.0683\n",
            "Epoch 66/100\n",
            "1106/1106 [==============================] - 1s 842us/step - loss: 0.0682\n",
            "Epoch 67/100\n",
            "1106/1106 [==============================] - 1s 823us/step - loss: 0.0680\n",
            "Epoch 68/100\n",
            "1106/1106 [==============================] - 1s 844us/step - loss: 0.0683\n",
            "Epoch 69/100\n",
            "1106/1106 [==============================] - 1s 884us/step - loss: 0.0684\n",
            "Epoch 70/100\n",
            "1106/1106 [==============================] - 1s 875us/step - loss: 0.0680\n",
            "Epoch 71/100\n",
            "1106/1106 [==============================] - 1s 821us/step - loss: 0.0681\n",
            "Epoch 72/100\n",
            "1106/1106 [==============================] - 1s 821us/step - loss: 0.0683\n",
            "Epoch 73/100\n",
            "1106/1106 [==============================] - 1s 845us/step - loss: 0.0679\n",
            "Epoch 74/100\n",
            "1106/1106 [==============================] - 1s 856us/step - loss: 0.0680\n",
            "Epoch 75/100\n",
            "1106/1106 [==============================] - 1s 882us/step - loss: 0.0683\n",
            "Epoch 76/100\n",
            "1106/1106 [==============================] - 1s 894us/step - loss: 0.0682\n",
            "Epoch 77/100\n",
            "1106/1106 [==============================] - 1s 860us/step - loss: 0.0680\n",
            "Epoch 78/100\n",
            "1106/1106 [==============================] - 1s 863us/step - loss: 0.0679\n",
            "Epoch 79/100\n",
            "1106/1106 [==============================] - 1s 835us/step - loss: 0.0676\n",
            "Epoch 80/100\n",
            "1106/1106 [==============================] - 1s 876us/step - loss: 0.0681\n",
            "Epoch 81/100\n",
            "1106/1106 [==============================] - 1s 855us/step - loss: 0.0678\n",
            "Epoch 82/100\n",
            "1106/1106 [==============================] - 1s 852us/step - loss: 0.0679\n",
            "Epoch 83/100\n",
            "1106/1106 [==============================] - 1s 844us/step - loss: 0.0679\n",
            "Epoch 84/100\n",
            "1106/1106 [==============================] - 1s 830us/step - loss: 0.0676\n",
            "Epoch 85/100\n",
            "1106/1106 [==============================] - 1s 844us/step - loss: 0.0679\n",
            "Epoch 86/100\n",
            "1106/1106 [==============================] - 1s 837us/step - loss: 0.0677\n",
            "Epoch 87/100\n",
            "1106/1106 [==============================] - 1s 827us/step - loss: 0.0678\n",
            "Epoch 88/100\n",
            "1106/1106 [==============================] - 1s 841us/step - loss: 0.0678\n",
            "Epoch 89/100\n",
            "1106/1106 [==============================] - 1s 856us/step - loss: 0.0678\n",
            "Epoch 90/100\n",
            "1106/1106 [==============================] - 1s 830us/step - loss: 0.0677\n",
            "Epoch 91/100\n",
            "1106/1106 [==============================] - 1s 841us/step - loss: 0.0679\n",
            "Epoch 92/100\n",
            "1106/1106 [==============================] - 1s 849us/step - loss: 0.0679\n",
            "Epoch 93/100\n",
            "1106/1106 [==============================] - 1s 847us/step - loss: 0.0679\n",
            "Epoch 94/100\n",
            "1106/1106 [==============================] - 1s 836us/step - loss: 0.0678\n",
            "Epoch 95/100\n",
            "1106/1106 [==============================] - 1s 837us/step - loss: 0.0678\n",
            "Epoch 96/100\n",
            "1106/1106 [==============================] - 1s 817us/step - loss: 0.0677\n",
            "Epoch 97/100\n",
            "1106/1106 [==============================] - 1s 851us/step - loss: 0.0679\n",
            "Epoch 98/100\n",
            "1106/1106 [==============================] - 1s 872us/step - loss: 0.0678\n",
            "Epoch 99/100\n",
            "1106/1106 [==============================] - 1s 822us/step - loss: 0.0678\n",
            "Epoch 100/100\n",
            "1106/1106 [==============================] - 1s 837us/step - loss: 0.0677\n"
          ],
          "name": "stdout"
        }
      ]
    },
    {
      "cell_type": "code",
      "metadata": {
        "colab": {
          "base_uri": "https://localhost:8080/",
          "height": 282
        },
        "id": "P8m1sRVv9FAC",
        "outputId": "b3df6165-cb80-431b-cc7f-97852256979b"
      },
      "source": [
        "plt.plot(trained_model.history[\"loss\"])"
      ],
      "execution_count": 53,
      "outputs": [
        {
          "output_type": "execute_result",
          "data": {
            "text/plain": [
              "[<matplotlib.lines.Line2D at 0x7fa6b7ba2f28>]"
            ]
          },
          "metadata": {
            "tags": []
          },
          "execution_count": 53
        },
        {
          "output_type": "display_data",
          "data": {
            "image/png": "[encoded data removed]",
            "text/plain": [
              "<Figure size 432x288 with 1 Axes>"
            ]
          },
          "metadata": {
            "tags": [],
            "needs_background": "light"
          }
        }
      ]
    },
    {
      "cell_type": "code",
      "metadata": {
        "id": "fhGty_359Vw-"
      },
      "source": [
        "y_pred = Model.predict(X_test)"
      ],
      "execution_count": 54,
      "outputs": []
    },
    {
      "cell_type": "code",
      "metadata": {
        "id": "XCuOKZiP9in2"
      },
      "source": [
        "y_pred = np.where(y_pred >= 0.5,1,0)"
      ],
      "execution_count": 55,
      "outputs": []
    },
    {
      "cell_type": "code",
      "metadata": {
        "id": "q0DVYnvV9mie"
      },
      "source": [
        "from sklearn.metrics import classification_report"
      ],
      "execution_count": 56,
      "outputs": []
    },
    {
      "cell_type": "code",
      "metadata": {
        "colab": {
          "base_uri": "https://localhost:8080/"
        },
        "id": "pTsoiFTC9pKg",
        "outputId": "3f980b29-db93-49d7-ed7c-d97fc0ab96d4"
      },
      "source": [
        "print(classification_report(y_yest,y_pred))"
      ],
      "execution_count": 57,
      "outputs": [
        {
          "output_type": "stream",
          "text": [
            "              precision    recall  f1-score   support\n",
            "\n",
            "           0       0.98      1.00      0.99     14937\n",
            "           1       0.00      0.00      0.00       229\n",
            "\n",
            "    accuracy                           0.98     15166\n",
            "   macro avg       0.49      0.50      0.50     15166\n",
            "weighted avg       0.97      0.98      0.98     15166\n",
            "\n"
          ],
          "name": "stdout"
        },
        {
          "output_type": "stream",
          "text": [
            "/usr/local/lib/python3.6/dist-packages/sklearn/metrics/_classification.py:1272: UndefinedMetricWarning: Precision and F-score are ill-defined and being set to 0.0 in labels with no predicted samples. Use `zero_division` parameter to control this behavior.\n",
            "  _warn_prf(average, modifier, msg_start, len(result))\n"
          ],
          "name": "stderr"
        }
      ]
    },
    {
      "cell_type": "code",
      "metadata": {
        "id": "FoE-gqcd9rcf"
      },
      "source": [
        ""
      ],
      "execution_count": 68,
      "outputs": []
    },
    {
      "cell_type": "code",
      "metadata": {
        "id": "f25QZTbJaDQ9"
      },
      "source": [
        ""
      ],
      "execution_count": 68,
      "outputs": []
    },
    {
      "cell_type": "markdown",
      "metadata": {
        "id": "OfrnbhTxaF1v"
      },
      "source": [
        ""
      ]
    }
  ]
}